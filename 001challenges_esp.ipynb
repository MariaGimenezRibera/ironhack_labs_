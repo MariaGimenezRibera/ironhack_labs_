{
  "cells": [
    {
      "cell_type": "markdown",
      "metadata": {
        "id": "LMLgz1oYrn0v"
      },
      "source": [
        "## Desafío 1: Tuplas\n",
        "\n",
        "#### ¿Sabías que puedes crear tuplas con solo un elemento?\n",
        "\n",
        "**En la celda de abajo, define una variable `tup` con un único elemento `\"I\"`.**"
      ]
    },
    {
      "cell_type": "code",
      "execution_count": 1,
      "metadata": {
        "id": "kormMRX2rn05"
      },
      "outputs": [],
      "source": [
        "tup = (\"I\",)\n"
      ]
    },
    {
      "cell_type": "markdown",
      "metadata": {
        "id": "hCEZf5o2rn07"
      },
      "source": [
        "#### Imprime el tipo de `tup`.\n",
        "\n",
        "Asegúrate de que su tipo sea correcto (es decir, *tuple* en lugar de *str*)."
      ]
    },
    {
      "cell_type": "code",
      "execution_count": 2,
      "metadata": {
        "colab": {
          "base_uri": "https://localhost:8080/"
        },
        "id": "90ARPw29rn08",
        "outputId": "f002a740-de24-42e9-c9ae-32abb68f1d50"
      },
      "outputs": [
        {
          "output_type": "stream",
          "name": "stdout",
          "text": [
            "<class 'tuple'>\n"
          ]
        }
      ],
      "source": [
        "print(type(tup))\n"
      ]
    },
    {
      "cell_type": "markdown",
      "metadata": {
        "id": "lI6uLnPLrn09"
      },
      "source": [
        "#### Ahora intenta agregar los siguientes elementos a `tup`.\n",
        "\n",
        "¿Puedes hacerlo? Explica.\n",
        "\n",
        "```\n",
        "\"r\", \"o\", \"n\", \"h\", \"a\", \"c\", \"k',\n",
        "```"
      ]
    },
    {
      "cell_type": "code",
      "execution_count": 3,
      "metadata": {
        "scrolled": true,
        "colab": {
          "base_uri": "https://localhost:8080/"
        },
        "id": "LJ4nSZX8rn0-",
        "outputId": "35768f3a-a278-4d48-d6aa-c5b531920358"
      },
      "outputs": [
        {
          "output_type": "stream",
          "name": "stdout",
          "text": [
            "('I', 'r', 'o', 'n', 'h', 'a', 'c', 'k')\n"
          ]
        }
      ],
      "source": [
        "tup = (\"I\",)\n",
        "otros_elementos = (\"r\", \"o\", \"n\", \"h\", \"a\", \"c\", \"k\")\n",
        "tup_extendida = tup + otros_elementos\n",
        "print(tup_extendida)\n",
        "\n",
        "\n",
        "# No es posible agregar elementos directamente a una tupla una vez que se ha\n",
        "# creado, ya que las tuplas son estructuras de datos inmutables en Python,\n",
        "# lo que significa que no se pueden modificar una vez creadas.\n",
        "# Sin embargo, puedes lograr algo similar creando una nueva tupla que contenga\n",
        "# los elementos originales más los elementos adicionales que deseas agregar."
      ]
    },
    {
      "cell_type": "markdown",
      "metadata": {
        "id": "W0LqpjcZrn0_"
      },
      "source": [
        "#### ¿Qué tal si reasignas un nuevo valor a una tupla existente?\n",
        "\n",
        "Reasigna los siguientes elementos a `tup`. ¿Puedes hacerlo? Explica.\n",
        "\n",
        "```\n",
        "\"I\", \"r\", \"o\", \"n\", \"h\", \"a\", \"c\", \"k\"\n",
        "```"
      ]
    },
    {
      "cell_type": "code",
      "execution_count": 4,
      "metadata": {
        "colab": {
          "base_uri": "https://localhost:8080/"
        },
        "id": "aUWQf5khrn1B",
        "outputId": "6fe572d3-48f8-4181-fe90-4303ecb751aa"
      },
      "outputs": [
        {
          "output_type": "stream",
          "name": "stdout",
          "text": [
            "('I', 'r', 'o', 'n', 'h', 'a', 'c', 'k')\n"
          ]
        }
      ],
      "source": [
        "# tup = (\"I\",)\n",
        "tup = (\"I\", \"r\", \"o\", \"n\", \"h\", \"a\", \"c\", \"k\")\n",
        "print(tup)\n"
      ]
    },
    {
      "cell_type": "markdown",
      "metadata": {
        "id": "c23f5O9vrn1C"
      },
      "source": [
        "#### Divide `tup` en `tup1` y `tup2` con 4 elementos en cada una.\n",
        "\n",
        "`tup1` debe ser `(\"I\", \"r\", \"o\", \"n\")` y `tup2` debe ser `(\"h\", \"a\", \"c\", \"k\")`.\n",
        "\n",
        "*Sugerencia: usa números de índice positivos para la asignación de `tup1` y números de índice negativos para la asignación de `tup2`. Los números de índice positivos cuentan desde el principio, mientras que los números de índice negativos cuentan desde el final de la secuencia.*\n",
        "\n",
        "También imprime `tup1` y `tup2`."
      ]
    },
    {
      "cell_type": "code",
      "execution_count": 6,
      "metadata": {
        "colab": {
          "base_uri": "https://localhost:8080/"
        },
        "id": "nMDWB7I-rn1D",
        "outputId": "4fa4f8ed-3d5f-4811-feb5-5c59fc3f4f18"
      },
      "outputs": [
        {
          "output_type": "stream",
          "name": "stdout",
          "text": [
            "tup1: ('I', 'r', 'o', 'n')\n",
            "tup2: ('h', 'a', 'c', 'k')\n"
          ]
        }
      ],
      "source": [
        "tup = (\"I\", \"r\", \"o\", \"n\", \"h\", \"a\", \"c\", \"k\")\n",
        "tup1 = tup[:4]\n",
        "tup2 = tup[-4:]\n",
        "print(\"tup1:\", tup1)\n",
        "print(\"tup2:\", tup2)\n"
      ]
    },
    {
      "cell_type": "markdown",
      "metadata": {
        "id": "wfSnBRtsrn1F"
      },
      "source": [
        "#### Suma `tup1` y `tup2` en `tup3` usando el operador `+`.\n",
        "\n",
        "Luego imprime `tup3` y verifica si `tup3` es igual a `tup`."
      ]
    },
    {
      "cell_type": "code",
      "execution_count": 7,
      "metadata": {
        "colab": {
          "base_uri": "https://localhost:8080/"
        },
        "id": "-b-Iwbh2rn1F",
        "outputId": "8de1fbed-2663-452b-f03c-8eea4077f2cb"
      },
      "outputs": [
        {
          "output_type": "stream",
          "name": "stdout",
          "text": [
            "tup3: ('I', 'r', 'o', 'n', 'h', 'a', 'c', 'k')\n",
            "¿tup3 es igual a tup? True\n"
          ]
        }
      ],
      "source": [
        "# Sumar tup1 y tup2 para obtener tup3\n",
        "tup3 = tup1 + tup2\n",
        "\n",
        "# Imprimir tup3\n",
        "print(\"tup3:\", tup3)\n",
        "\n",
        "# Verificar si tup3 es igual a tup\n",
        "igual_a_tup = tup3 == tup\n",
        "print(\"¿tup3 es igual a tup?\", igual_a_tup)"
      ]
    },
    {
      "cell_type": "markdown",
      "metadata": {
        "id": "YVymO8VGrn1G"
      },
      "source": [
        "#### Cuenta el número de elementos en `tup1` y `tup2`. Luego suma los dos conteos y verifica si la suma es igual al número de elementos en `tup3`."
      ]
    },
    {
      "cell_type": "code",
      "execution_count": 8,
      "metadata": {
        "id": "e83sVIACrn1H"
      },
      "outputs": [],
      "source": [
        "# Contar el número de elementos en tup1 y tup2\n",
        "num_elementos_tup1 = len(tup1)\n",
        "num_elementos_tup2 = len(tup2)\n",
        "\n",
        "# Sumar los conteos\n",
        "suma_conteos = num_elementos_tup1 + num_elementos_tup2\n",
        "\n",
        "# Verificar si la suma es igual al número de elementos en tup3\n",
        "igual_numero_elementos = suma_conteos == len(tup)"
      ]
    },
    {
      "cell_type": "markdown",
      "metadata": {
        "id": "bSsunEtorn1H"
      },
      "source": [
        "#### ¿Cuál es el número de índice de `\"h\"` en `tup3`?"
      ]
    },
    {
      "cell_type": "code",
      "execution_count": 9,
      "metadata": {
        "colab": {
          "base_uri": "https://localhost:8080/"
        },
        "id": "Qwt14xBArn1H",
        "outputId": "78756bcb-c74f-4ea3-af7a-bf44827ef050"
      },
      "outputs": [
        {
          "output_type": "stream",
          "name": "stdout",
          "text": [
            "El número de índice de 'h' en tup3 es: 4\n"
          ]
        }
      ],
      "source": [
        "# Encontrar el número de índice de \"h\" en tup3\n",
        "indice_h = tup3.index(\"h\")\n",
        "\n",
        "print(\"El número de índice de 'h' en tup3 es:\", indice_h)"
      ]
    },
    {
      "cell_type": "markdown",
      "metadata": {
        "id": "M2AOPaAUrn1I"
      },
      "source": [
        "#### Ahora, usa un bucle FOR para verificar si cada letra en la siguiente lista está presente en `tup3`:\n",
        "\n",
        "\n",
        "```\n",
        "letters = [\"a\", \"b\", \"c\", \"d\", \"e\"]\n",
        "```\n",
        "\n",
        "\n",
        "Para cada letra que verifiques, imprime `True` si está presente en `tup3`, de lo contrario imprime `False`.\n",
        "\n",
        "*Sugerencia: solo necesitas hacer un bucle con `letters`. No necesitas hacer un bucle con `tup3` porque hay un operador de Python `in` que puedes usar. Consulta la [referencia](https://stackoverflow.com/questions/17920147/how-to-check-if-a-tuple-contains-an-element-in-python).*"
      ]
    },
    {
      "cell_type": "code",
      "execution_count": 10,
      "metadata": {
        "colab": {
          "base_uri": "https://localhost:8080/"
        },
        "id": "Sbbj_V52rn1I",
        "outputId": "acfdb29d-d484-49f9-901a-f559f72650dc"
      },
      "outputs": [
        {
          "output_type": "stream",
          "name": "stdout",
          "text": [
            "True\n",
            "False\n",
            "True\n",
            "False\n",
            "False\n"
          ]
        }
      ],
      "source": [
        "letters = [\"a\", \"b\", \"c\", \"d\", \"e\"]\n",
        "\n",
        "for letra in letters:\n",
        "    if letra in tup3:\n",
        "        print(True)\n",
        "    else:\n",
        "        print(False)\n"
      ]
    },
    {
      "cell_type": "markdown",
      "metadata": {
        "id": "44r8GXg2rn1J"
      },
      "source": [
        "#### ¿Cuántas veces aparece cada letra de `letters` en `tup3`?\n",
        "\n",
        "Imprime el número de ocurrencias de cada letra."
      ]
    },
    {
      "cell_type": "code",
      "execution_count": 11,
      "metadata": {
        "colab": {
          "base_uri": "https://localhost:8080/"
        },
        "id": "2RjXJVrwrn1K",
        "outputId": "723384ab-c0cb-4251-c80d-3917de85912a"
      },
      "outputs": [
        {
          "output_type": "stream",
          "name": "stdout",
          "text": [
            "La letra 'a' aparece 1 veces en tup3.\n",
            "La letra 'b' aparece 0 veces en tup3.\n",
            "La letra 'c' aparece 1 veces en tup3.\n",
            "La letra 'd' aparece 0 veces en tup3.\n",
            "La letra 'e' aparece 0 veces en tup3.\n"
          ]
        }
      ],
      "source": [
        "letters = [\"a\", \"b\", \"c\", \"d\", \"e\"]\n",
        "\n",
        "for letra in letters:\n",
        "    ocurrencias = tup3.count(letra)\n",
        "    print(f\"La letra '{letra}' aparece {ocurrencias} veces en tup3.\")\n"
      ]
    },
    {
      "cell_type": "markdown",
      "metadata": {
        "id": "l8x2nXJJrn1K"
      },
      "source": [
        "## Desafío 2: Conjuntos\n",
        "\n",
        "Hay mucho que aprender sobre los Conjuntos en Python y la información presentada en la lección es limitada debido a su longitud. Para aprender a fondo sobre los Conjuntos en Python, te recomendamos encarecidamente que revises el tutorial de W3Schools sobre [Ejemplos y Métodos de Conjuntos en Python](https://www.w3schools.com/python/python_sets.asp) antes de trabajar en este laboratorio. Algunas preguntas difíciles de este laboratorio tienen sus soluciones en el tutorial de W3Schools.\n",
        "\n",
        "#### Primero, importa la biblioteca `random` de Python."
      ]
    },
    {
      "cell_type": "code",
      "execution_count": 12,
      "metadata": {
        "id": "lGr-X-CFrn1L"
      },
      "outputs": [],
      "source": [
        "import random"
      ]
    },
    {
      "cell_type": "markdown",
      "metadata": {
        "id": "vy8gli-prn1L"
      },
      "source": [
        "#### En la celda de abajo, crea una lista llamada `sample_list_1` con 80 valores aleatorios.\n",
        "\n",
        "Requisitos:\n",
        "\n",
        "* Cada valor es un entero entre 0 y 100.\n",
        "* Cada valor en la lista es único.\n",
        "\n",
        "Imprime `sample_list_1` para revisar sus valores.\n",
        "\n",
        "*Sugerencia: usa `random.sample` ([referencia](https://docs.python.org/3/library/random.html#random.sample)).*"
      ]
    },
    {
      "cell_type": "code",
      "execution_count": 13,
      "metadata": {
        "colab": {
          "base_uri": "https://localhost:8080/"
        },
        "id": "k3vTZ3rRrn1L",
        "outputId": "cfb3a0a3-2a13-47c6-888a-31b07127fbf6"
      },
      "outputs": [
        {
          "output_type": "stream",
          "name": "stdout",
          "text": [
            "sample_list_1: [32, 9, 56, 60, 25, 90, 13, 45, 4, 1, 35, 94, 27, 52, 36, 51, 26, 10, 17, 18, 99, 79, 98, 73, 6, 20, 97, 67, 47, 74, 66, 19, 87, 40, 82, 100, 43, 28, 48, 23, 50, 38, 41, 16, 21, 30, 75, 29, 22, 39, 54, 80, 55, 12, 78, 65, 92, 44, 95, 62, 5, 37, 76, 84, 33, 85, 0, 88, 34, 93, 83, 71, 70, 15, 8, 53, 57, 63, 64, 91]\n"
          ]
        }
      ],
      "source": [
        "# Generar una lista de 80 valores únicos entre 0 y 100\n",
        "sample_list_1 = random.sample(range(101), 80)\n",
        "\n",
        "# Imprimir la lista generada\n",
        "print(\"sample_list_1:\", sample_list_1)"
      ]
    },
    {
      "cell_type": "markdown",
      "metadata": {
        "id": "9Khe51C4rn1M"
      },
      "source": [
        "#### Convierte `sample_list_1` en un conjunto llamado `set1`. Imprime la longitud del conjunto. ¿Su longitud sigue siendo 80?"
      ]
    },
    {
      "cell_type": "code",
      "execution_count": 14,
      "metadata": {
        "colab": {
          "base_uri": "https://localhost:8080/"
        },
        "id": "tFUWAejVrn1P",
        "outputId": "880609e1-549b-4ed4-c738-d56fbcb8f711"
      },
      "outputs": [
        {
          "output_type": "stream",
          "name": "stdout",
          "text": [
            "Longitud de set1: 80\n"
          ]
        }
      ],
      "source": [
        "# Convertir sample_list_1 en un conjunto llamado set1\n",
        "set1 = set(sample_list_1)\n",
        "\n",
        "# Imprimir la longitud del conjunto set1\n",
        "print(\"Longitud de set1:\", len(set1))\n"
      ]
    },
    {
      "cell_type": "markdown",
      "metadata": {
        "id": "WSzK63ogrn1P"
      },
      "source": [
        "#### Crea otra lista llamada `sample_list_2` con 80 valores aleatorios.\n",
        "\n",
        "Requisitos:\n",
        "\n",
        "* Cada valor es un entero entre 0 y 100.\n",
        "* Los valores en la lista no tienen que ser únicos.\n",
        "\n",
        "*Sugerencia: Usa un bucle FOR.*"
      ]
    },
    {
      "cell_type": "code",
      "execution_count": 15,
      "metadata": {
        "colab": {
          "base_uri": "https://localhost:8080/"
        },
        "id": "Ttjuzf7brn1P",
        "outputId": "0f9c1f84-5d81-4246-8464-ded23dfe7464"
      },
      "outputs": [
        {
          "output_type": "stream",
          "name": "stdout",
          "text": [
            "sample_list_2: [18, 43, 99, 97, 35, 85, 17, 88, 51, 67, 91, 19, 58, 39, 67, 13, 1, 98, 98, 10, 34, 37, 47, 23, 20, 5, 81, 46, 95, 32, 58, 12, 54, 27, 23, 13, 90, 22, 91, 22, 77, 84, 74, 49, 25, 81, 49, 95, 17, 61, 67, 82, 59, 12, 36, 80, 0, 77, 79, 52, 7, 29, 73, 23, 94, 38, 45, 53, 52, 31, 14, 32, 82, 20, 61, 37, 22, 82, 36, 84]\n"
          ]
        }
      ],
      "source": [
        "# Crear una lista vacía para almacenar los valores aleatorios\n",
        "sample_list_2 = []\n",
        "\n",
        "# Generar 80 valores aleatorios y agregarlos a sample_list_2\n",
        "for _ in range(80):\n",
        "    sample_list_2.append(random.randint(0, 100))\n",
        "\n",
        "# Imprimir sample_list_2 para revisar sus valores\n",
        "print(\"sample_list_2:\", sample_list_2)"
      ]
    },
    {
      "cell_type": "markdown",
      "metadata": {
        "id": "oJPin922rn1Q"
      },
      "source": [
        "#### Convierte `sample_list_2` en un conjunto llamado `set2`. Imprime la longitud del conjunto. ¿Su longitud sigue siendo 80?"
      ]
    },
    {
      "cell_type": "code",
      "execution_count": 16,
      "metadata": {
        "colab": {
          "base_uri": "https://localhost:8080/"
        },
        "id": "ep9Ahcyhrn1Q",
        "outputId": "682e61aa-7982-4b76-8687-456cf8ab4255"
      },
      "outputs": [
        {
          "output_type": "stream",
          "name": "stdout",
          "text": [
            "Longitud de set2: 55\n"
          ]
        }
      ],
      "source": [
        "# Convertir sample_list_2 en un conjunto llamado set2\n",
        "set2 = set(sample_list_2)\n",
        "\n",
        "# Imprimir la longitud del conjunto set2\n",
        "print(\"Longitud de set2:\", len(set2))\n"
      ]
    },
    {
      "cell_type": "markdown",
      "metadata": {
        "id": "Nc9Chdfvrn1Q"
      },
      "source": [
        "#### Identifica los elementos presentes en `set1` pero no en `set2`. Asigna los elementos a un nuevo conjunto llamado `set3`."
      ]
    },
    {
      "cell_type": "code",
      "execution_count": 17,
      "metadata": {
        "colab": {
          "base_uri": "https://localhost:8080/"
        },
        "id": "uT15Q3Wern1R",
        "outputId": "12fa3b64-7800-4210-c019-0098a211f556"
      },
      "outputs": [
        {
          "output_type": "stream",
          "name": "stdout",
          "text": [
            "Elementos en set1 pero no en set2: {4, 6, 8, 9, 15, 16, 21, 26, 28, 30, 33, 40, 41, 44, 48, 50, 55, 56, 57, 60, 62, 63, 64, 65, 66, 70, 71, 75, 76, 78, 83, 87, 92, 93, 100}\n"
          ]
        }
      ],
      "source": [
        "# Identificar los elementos presentes en set1 pero no en set2\n",
        "set3 = set1 - set2\n",
        "\n",
        "# Imprimir los elementos presentes en set1 pero no en set2\n",
        "print(\"Elementos en set1 pero no en set2:\", set3)\n"
      ]
    },
    {
      "cell_type": "markdown",
      "metadata": {
        "id": "gXzlktU7rn1S"
      },
      "source": [
        "#### Identifica los elementos presentes en `set2` pero no en `set1`. Asigna los elementos a un nuevo conjunto llamado `set4`."
      ]
    },
    {
      "cell_type": "code",
      "execution_count": 18,
      "metadata": {
        "colab": {
          "base_uri": "https://localhost:8080/"
        },
        "id": "eP60uiyarn1S",
        "outputId": "bbfa7229-8392-4056-b92a-1762058b7905"
      },
      "outputs": [
        {
          "output_type": "stream",
          "name": "stdout",
          "text": [
            "Elementos en set2 pero no en set1: {7, 77, 46, 14, 49, 81, 58, 59, 61, 31}\n"
          ]
        }
      ],
      "source": [
        "# Identificar los elementos presentes en set2 pero no en set1\n",
        "set4 = set2 - set1\n",
        "\n",
        "# Imprimir los elementos presentes en set2 pero no en set1\n",
        "print(\"Elementos en set2 pero no en set1:\", set4)\n"
      ]
    },
    {
      "cell_type": "markdown",
      "metadata": {
        "id": "OgQTAPQcrn1S"
      },
      "source": [
        "#### Ahora identifica los elementos compartidos entre `set1` y `set2`. Asigna los elementos a un nuevo conjunto llamado `set5`."
      ]
    },
    {
      "cell_type": "code",
      "execution_count": 19,
      "metadata": {
        "colab": {
          "base_uri": "https://localhost:8080/"
        },
        "id": "2HnESryPrn1S",
        "outputId": "7f8ee206-70db-4612-bc50-f514d0c9ad5b"
      },
      "outputs": [
        {
          "output_type": "stream",
          "name": "stdout",
          "text": [
            "Elementos compartidos entre set1 y set2: {0, 1, 5, 10, 12, 13, 17, 18, 19, 20, 22, 23, 25, 27, 29, 32, 34, 35, 36, 37, 38, 39, 43, 45, 47, 51, 52, 53, 54, 67, 73, 74, 79, 80, 82, 84, 85, 88, 90, 91, 94, 95, 97, 98, 99}\n"
          ]
        }
      ],
      "source": [
        "# Identificar los elementos compartidos entre set1 y set2\n",
        "set5 = set1 & set2\n",
        "\n",
        "# Imprimir los elementos compartidos entre set1 y set2\n",
        "print(\"Elementos compartidos entre set1 y set2:\", set5)"
      ]
    },
    {
      "cell_type": "markdown",
      "metadata": {
        "id": "D3FjeTDzrn1S"
      },
      "source": [
        "#### ¿Cuál es la relación entre los siguientes valores?\n",
        "\n",
        "* len(set1)\n",
        "* len(set2)\n",
        "* len(set3)\n",
        "* len(set4)\n",
        "* len(set5)\n",
        "\n",
        "Usa una fórmula matemática para representar esa relación. Prueba tu fórmula con código Python."
      ]
    },
    {
      "cell_type": "code",
      "execution_count": 20,
      "metadata": {
        "colab": {
          "base_uri": "https://localhost:8080/"
        },
        "id": "XFHV4HxLrn1T",
        "outputId": "7741e1a1-8c79-46cf-e903-b84a3693a935"
      },
      "outputs": [
        {
          "output_type": "stream",
          "name": "stdout",
          "text": [
            "¿La relación es verdadera? True\n"
          ]
        }
      ],
      "source": [
        "# Calcular las longitudes de los conjuntos\n",
        "len_set1 = len(set1)\n",
        "len_set2 = len(set2)\n",
        "len_set3 = len(set3)\n",
        "len_set4 = len(set4)\n",
        "len_set5 = len(set5)\n",
        "\n",
        "# Verificar la relación\n",
        "relation = len_set1 + len_set2 == len_set3 + len_set4 + 2 * len_set5\n",
        "print(\"¿La relación es verdadera?\", relation)\n"
      ]
    },
    {
      "cell_type": "markdown",
      "metadata": {
        "id": "qISIl6bJrn1j"
      },
      "source": [
        "#### Crea un conjunto vacío llamado `set6`."
      ]
    },
    {
      "cell_type": "code",
      "execution_count": 25,
      "metadata": {
        "id": "8vxhSvtyrn1j"
      },
      "outputs": [],
      "source": [
        "set6 = set()"
      ]
    },
    {
      "cell_type": "markdown",
      "metadata": {
        "id": "pFVhUn9hrn1k"
      },
      "source": [
        "#### Añade `set3` y `set5` a `set6` usando el método `update` de los Conjuntos de Python."
      ]
    },
    {
      "cell_type": "code",
      "execution_count": 26,
      "metadata": {
        "id": "tbQtEUinrn1k"
      },
      "outputs": [],
      "source": [
        "set6.update(set3)\n",
        "set6.update(set5)"
      ]
    },
    {
      "cell_type": "markdown",
      "metadata": {
        "id": "J4GFggftrn1k"
      },
      "source": [
        "#### Verifica si `set1` y `set6` son iguales."
      ]
    },
    {
      "cell_type": "code",
      "execution_count": 27,
      "metadata": {
        "id": "Q_YBnHobrn1l"
      },
      "outputs": [],
      "source": [
        "son_iguales = set1 == set6"
      ]
    },
    {
      "cell_type": "markdown",
      "metadata": {
        "id": "9lSMxjHZrn1l"
      },
      "source": [
        "#### Comprueba si `set1` contiene a `set2` utilizando el método `issubset` de los Conjuntos de Python. Luego verifica si `set1` contiene a `set3`."
      ]
    },
    {
      "cell_type": "code",
      "source": [
        "# Verificar si set2 es un subconjunto de set1\n",
        "contiene_set2 = set2.issubset(set1)\n",
        "print(\"¿set1 contiene a set2?\", contiene_set2)\n",
        "\n",
        "# Verificar si set3 es un subconjunto de set1\n",
        "contiene_set3 = set3.issubset(set1)\n",
        "print(\"¿set1 contiene a set3?\", contiene_set3)\n"
      ],
      "metadata": {
        "colab": {
          "base_uri": "https://localhost:8080/"
        },
        "id": "BNdR8Bxfv8WX",
        "outputId": "d1823409-7c91-4701-e9e7-d7101a79df06"
      },
      "execution_count": 28,
      "outputs": [
        {
          "output_type": "stream",
          "name": "stdout",
          "text": [
            "¿set1 contiene a set2? False\n",
            "¿set1 contiene a set3? True\n"
          ]
        }
      ]
    },
    {
      "cell_type": "markdown",
      "metadata": {
        "id": "B6j27JYWrn1m"
      },
      "source": [
        "#### Utilizando el método `union` de los Conjuntos de Python, agrega `set3`, `set4` y `set5`. Luego agrega `set1` y `set2`.\n",
        "\n",
        "#### Verifica si los valores agregados son iguales."
      ]
    },
    {
      "cell_type": "code",
      "execution_count": 29,
      "metadata": {
        "colab": {
          "base_uri": "https://localhost:8080/"
        },
        "id": "6RMmuQ-zrn1n",
        "outputId": "1eb12630-1bc2-4597-ceda-7632065d35ad"
      },
      "outputs": [
        {
          "output_type": "stream",
          "name": "stdout",
          "text": [
            "Unión de set3, set4, set5, set1 y set2: {0, 1, 4, 5, 6, 7, 8, 9, 10, 12, 13, 14, 15, 16, 17, 18, 19, 20, 21, 22, 23, 25, 26, 27, 28, 29, 30, 31, 32, 33, 34, 35, 36, 37, 38, 39, 40, 41, 43, 44, 45, 46, 47, 48, 49, 50, 51, 52, 53, 54, 55, 56, 57, 58, 59, 60, 61, 62, 63, 64, 65, 66, 67, 70, 71, 73, 74, 75, 76, 77, 78, 79, 80, 81, 82, 83, 84, 85, 87, 88, 90, 91, 92, 93, 94, 95, 97, 98, 99, 100}\n"
          ]
        }
      ],
      "source": [
        "# Realizar la unión de set3, set4 y set5\n",
        "union_temporal = set3.union(set4, set5)\n",
        "\n",
        "# Agregar set1 y set2 a la unión temporal\n",
        "union_final = union_temporal.union(set1, set2)\n",
        "\n",
        "# Imprimir el resultado de la unión final\n",
        "print(\"Unión de set3, set4, set5, set1 y set2:\", union_final)\n"
      ]
    },
    {
      "cell_type": "markdown",
      "metadata": {
        "id": "9qKlzMlZrn1n"
      },
      "source": [
        "#### Utilizando el método `pop`, elimina el primer elemento de `set1`."
      ]
    },
    {
      "cell_type": "code",
      "execution_count": 30,
      "metadata": {
        "colab": {
          "base_uri": "https://localhost:8080/"
        },
        "id": "Z2Da_8j7rn1n",
        "outputId": "5b536aad-7fcc-4058-d5c5-c7ea0a0e0d40"
      },
      "outputs": [
        {
          "output_type": "stream",
          "name": "stdout",
          "text": [
            "Elemento eliminado de set1: 0\n",
            "set1 después de eliminar el elemento: {1, 4, 5, 6, 8, 9, 10, 12, 13, 15, 16, 17, 18, 19, 20, 21, 22, 23, 25, 26, 27, 28, 29, 30, 32, 33, 34, 35, 36, 37, 38, 39, 40, 41, 43, 44, 45, 47, 48, 50, 51, 52, 53, 54, 55, 56, 57, 60, 62, 63, 64, 65, 66, 67, 70, 71, 73, 74, 75, 76, 78, 79, 80, 82, 83, 84, 85, 87, 88, 90, 91, 92, 93, 94, 95, 97, 98, 99, 100}\n"
          ]
        }
      ],
      "source": [
        "# Eliminar el primer elemento de set1\n",
        "elemento_eliminado = set1.pop()\n",
        "\n",
        "# Imprimir el elemento eliminado y el conjunto actualizado\n",
        "print(\"Elemento eliminado de set1:\", elemento_eliminado)\n",
        "print(\"set1 después de eliminar el elemento:\", set1)\n"
      ]
    },
    {
      "cell_type": "markdown",
      "metadata": {
        "id": "WGNIshXGrn1o"
      },
      "source": [
        "#### Elimina cada elemento en la siguiente lista de `set1` si están presentes en el conjunto. Imprime los elementos restantes.\n",
        "\n",
        "```\n",
        "list_to_remove = [1, 9, 11, 19, 21, 29, 31, 39, 41, 49, 51, 59, 61, 69, 71, 79, 81, 89, 91, 99]\n",
        "```"
      ]
    },
    {
      "cell_type": "code",
      "execution_count": 31,
      "metadata": {
        "colab": {
          "base_uri": "https://localhost:8080/"
        },
        "id": "5S34Atbxrn1o",
        "outputId": "b62fab21-a3ab-4b53-fc55-c178af6b0fd7"
      },
      "outputs": [
        {
          "output_type": "stream",
          "name": "stdout",
          "text": [
            "Elementos restantes en set1: {4, 5, 6, 8, 10, 12, 13, 15, 16, 17, 18, 20, 22, 23, 25, 26, 27, 28, 30, 32, 33, 34, 35, 36, 37, 38, 40, 43, 44, 45, 47, 48, 50, 52, 53, 54, 55, 56, 57, 60, 62, 63, 64, 65, 66, 67, 70, 73, 74, 75, 76, 78, 80, 82, 83, 84, 85, 87, 88, 90, 92, 93, 94, 95, 97, 98, 100}\n"
          ]
        }
      ],
      "source": [
        "# Lista de elementos a eliminar si están presentes en set1\n",
        "list_to_remove = [1, 9, 11, 19, 21, 29, 31, 39, 41, 49, 51, 59, 61, 69, 71, 79, 81, 89, 91, 99]\n",
        "\n",
        "# Eliminar los elementos del conjunto si están presentes\n",
        "for elemento in list_to_remove:\n",
        "    set1.discard(elemento)\n",
        "\n",
        "# Imprimir los elementos restantes en set1\n",
        "print(\"Elementos restantes en set1:\", set1)\n"
      ]
    },
    {
      "cell_type": "markdown",
      "metadata": {
        "id": "acNjmsHErn1o"
      },
      "source": [
        "## BONUS - Desafío 3: Diccionarios\n",
        "\n",
        "En este desafío practicarás cómo manipular diccionarios en Python. Antes de empezar este desafío, te animamos a revisar los [Ejemplos y Métodos de Diccionarios en Python](https://www.w3schools.com/python/python_dictionaries.asp) de W3School.\n",
        "\n",
        "Lo primero que practicarás es cómo ordenar las claves en un diccionario. A diferencia del objeto de lista, el diccionario de Python no tiene un método *sort* incorporado. Necesitarás usar bucles FOR para ordenar los diccionarios ya sea por clave o por valor.\n",
        "\n",
        "El diccionario a continuación es un resumen de la frecuencia de palabras de la canción *Shape of You* de Ed Sheeran. Cada clave es una palabra en la letra y el valor es el número de veces que esa palabra aparece en la letra."
      ]
    },
    {
      "cell_type": "code",
      "execution_count": 33,
      "metadata": {
        "id": "lOoLbqJErn1p"
      },
      "outputs": [],
      "source": [
        "word_freq = {'love': 25, 'conversation': 1, 'every': 6, \"we're\": 1, 'plate': 1, 'sour': 1, 'jukebox': 1, 'now': 11, 'taxi': 1, 'fast': 1, 'bag': 1, 'man': 1, 'push': 3, 'baby': 14, 'going': 1, 'you': 16, \"don't\": 2, 'one': 1, 'mind': 2, 'backseat': 1, 'friends': 1, 'then': 3, 'know': 2, 'take': 1, 'play': 1, 'okay': 1, 'so': 2, 'begin': 1, 'start': 2, 'over': 1, 'body': 17, 'boy': 2, 'just': 1, 'we': 7, 'are': 1, 'girl': 2, 'tell': 1, 'singing': 2, 'drinking': 1, 'put': 3, 'our': 1, 'where': 1, \"i'll\": 1, 'all': 1, \"isn't\": 1, 'make': 1, 'lover': 1, 'get': 1, 'radio': 1, 'give': 1, \"i'm\": 23, 'like': 10, 'can': 1, 'doing': 2, 'with': 22, 'club': 1, 'come': 37, 'it': 1, 'somebody': 2, 'handmade': 2, 'out': 1, 'new': 6, 'room': 3, 'chance': 1, 'follow': 6, 'in': 27, 'may': 2, 'brand': 6, 'that': 2, 'magnet': 3, 'up': 3, 'first': 1, 'and': 23, 'pull': 3, 'of': 6, 'table': 1, 'much': 2, 'last': 3, 'i': 6, 'thrifty': 1, 'grab': 2, 'was': 2, 'driver': 1, 'slow': 1, 'dance': 1, 'the': 18, 'say': 2, 'trust': 1, 'family': 1, 'week': 1, 'date': 1, 'me': 10, 'do': 3, 'waist': 2, 'smell': 3, 'day': 6, 'although': 3, 'your': 21, 'leave': 1, 'want': 2, \"let's\": 2, 'lead': 6, 'at': 1, 'hand': 1, 'how': 1, 'talk': 4, 'not': 2, 'eat': 1, 'falling': 3, 'about': 1, 'story': 1, 'sweet': 1, 'best': 1, 'crazy': 2, 'let': 1, 'too': 5, 'van': 1, 'shots': 1, 'go': 2, 'to': 2, 'a': 8, 'my': 33, 'is': 5, 'place': 1, 'find': 1, 'shape': 6, 'on': 40, 'kiss': 1, 'were': 3, 'night': 3, 'heart': 3, 'for': 3, 'discovering': 6, 'something': 6, 'be': 16, 'bedsheets': 3, 'fill': 2, 'hours': 2, 'stop': 1, 'bar': 1}"
      ]
    },
    {
      "cell_type": "markdown",
      "metadata": {
        "id": "hg6Hwnwarn1p"
      },
      "source": [
        "#### Ordena las claves de `word_freq` de forma ascendente.\n",
        "\n",
        "Por favor, crea un nuevo diccionario llamado `word_freq2` basado en `word_freq` con las claves ordenadas de forma ascendente.\n",
        "\n",
        "Hay varias formas de lograr ese objetivo, pero muchas de ellas van más allá de lo que hemos cubierto hasta ahora en el curso. Hay una forma que describiremos empleando lo que has aprendido. Por favor, siéntete libre de usar esta forma o cualquier otra que desees.\n",
        "\n",
        "1. Primero extrae las claves de `word_freq` y conviértelas en una lista llamada `keys`.\n",
        "\n",
        "1. Ordena la lista `keys`.\n",
        "\n",
        "1. Crea un diccionario vacío `word_freq2`.\n",
        "\n",
        "1. Usa un bucle FOR para iterar cada valor en `keys`. Para cada clave iterada, encuentra el valor correspondiente en `word_freq` e inserta el par clave-valor en `word_freq2`.\n",
        "\n",
        "📖 [Documentación para un bucle for](https://docs.python.org/3/reference/compound_stmts.html#for)\n",
        "\n",
        "Imprime `word_freq2` para examinar sus claves y valores. Tu salida debería ser:\n",
        "\n",
        "```python\n",
        "{'a': 8, 'about': 1, 'all': 1, 'although': 3, 'and': 23, 'are': 1, 'at': 1, 'baby': 14, 'backseat': 1, 'bag': 1, 'bar': 1, 'be': 16, 'bedsheets': 3, 'begin': 1, 'best': 1, 'body': 17, 'boy': 2, 'brand': 6, 'can': 1, 'chance': 1, 'club': 1, 'come': 37, 'conversation': 1, 'crazy': 2, 'dance': 1, 'date': 1, 'day': 6, 'discovering': 6, 'do': 3, 'doing': 2, \"don't\": 2, 'drinking': 1, 'driver': 1, 'eat': 1, 'every': 6, 'falling': 3, 'family': 1, 'fast': 1, 'fill': 2, 'find': 1, 'first': 1, 'follow': 6, 'for': 3, 'friends': 1, 'get': 1, 'girl': 2, 'give': 1, 'go': 2, 'going': 1, 'grab': 2, 'hand': 1, 'handmade': 2, 'heart': 3, 'hours': 2, 'how': 1, 'i': 6, \"i'll\": 1, \"i'm\": 23, 'in': 27, 'is': 5, \"isn't\": 1, 'it': 1, 'jukebox': 1, 'just': 1, 'kiss': 1, 'know': 2, 'last': 3, 'lead': 6, 'leave': 1, 'let': 1, \"let's\": 2, 'like': 10, 'love': 25, 'lover': 1, 'magnet': 3, 'make': 1, 'man': 1, 'may': 2, 'me': 10, 'mind': 2, 'much': 2, 'my': 33, 'new': 6, 'night': 3, 'not': 2, 'now': 11, 'of': 6, 'okay': 1, 'on': 40, 'one': 1, 'our': 1, 'out': 1, 'over': 1, 'place': 1, 'plate': 1, 'play': 1, 'pull': 3, 'push': 3, 'put': 3, 'radio': 1, 'room': 3, 'say': 2, 'shape': 6, 'shots': 1, 'singing': 2, 'slow': 1, 'smell': 3, 'so': 2, 'somebody': 2, 'something': 6, 'sour': 1, 'start': 2, 'stop': 1, 'story': 1, 'sweet': 1, 'table': 1, 'take': 1, 'talk': 4, 'taxi': 1, 'tell': 1, 'that': 2, 'the': 18, 'then': 3, 'thrifty': 1, 'to': 2, 'too': 5, 'trust': 1, 'up': 3, 'van': 1, 'waist': 2, 'want': 2, 'was': 2, 'we': 7, \"we're\": 1, 'week': 1, 'were': 3, 'where': 1, 'with': 22, 'you': 16, 'your': 21}\n",
        "```"
      ]
    },
    {
      "cell_type": "code",
      "execution_count": 35,
      "metadata": {
        "colab": {
          "base_uri": "https://localhost:8080/"
        },
        "id": "AjMq-kiCrn1p",
        "outputId": "e1b9110a-850e-4097-e030-dd2e0be08eb1"
      },
      "outputs": [
        {
          "output_type": "stream",
          "name": "stdout",
          "text": [
            "word_freq2 basado en word_freq con las claves ordenadas de forma ascendente:\n",
            "{'a': 8, 'about': 1, 'all': 1, 'although': 3, 'and': 23, 'are': 1, 'at': 1, 'baby': 14, 'backseat': 1, 'bag': 1, 'bar': 1, 'be': 16, 'bedsheets': 3, 'begin': 1, 'best': 1, 'body': 17, 'boy': 2, 'brand': 6, 'can': 1, 'chance': 1, 'club': 1, 'come': 37, 'conversation': 1, 'crazy': 2, 'dance': 1, 'date': 1, 'day': 6, 'discovering': 6, 'do': 3, 'doing': 2, \"don't\": 2, 'drinking': 1, 'driver': 1, 'eat': 1, 'every': 6, 'falling': 3, 'family': 1, 'fast': 1, 'fill': 2, 'find': 1, 'first': 1, 'follow': 6, 'for': 3, 'friends': 1, 'get': 1, 'girl': 2, 'give': 1, 'go': 2, 'going': 1, 'grab': 2, 'hand': 1, 'handmade': 2, 'heart': 3, 'hours': 2, 'how': 1, 'i': 6, \"i'll\": 1, \"i'm\": 23, 'in': 27, 'is': 5, \"isn't\": 1, 'it': 1, 'jukebox': 1, 'just': 1, 'kiss': 1, 'know': 2, 'last': 3, 'lead': 6, 'leave': 1, 'let': 1, \"let's\": 2, 'like': 10, 'love': 25, 'lover': 1, 'magnet': 3, 'make': 1, 'man': 1, 'may': 2, 'me': 10, 'mind': 2, 'much': 2, 'my': 33, 'new': 6, 'night': 3, 'not': 2, 'now': 11, 'of': 6, 'okay': 1, 'on': 40, 'one': 1, 'our': 1, 'out': 1, 'over': 1, 'place': 1, 'plate': 1, 'play': 1, 'pull': 3, 'push': 3, 'put': 3, 'radio': 1, 'room': 3, 'say': 2, 'shape': 6, 'shots': 1, 'singing': 2, 'slow': 1, 'smell': 3, 'so': 2, 'somebody': 2, 'something': 6, 'sour': 1, 'start': 2, 'stop': 1, 'story': 1, 'sweet': 1, 'table': 1, 'take': 1, 'talk': 4, 'taxi': 1, 'tell': 1, 'that': 2, 'the': 18, 'then': 3, 'thrifty': 1, 'to': 2, 'too': 5, 'trust': 1, 'up': 3, 'van': 1, 'waist': 2, 'want': 2, 'was': 2, 'we': 7, \"we're\": 1, 'week': 1, 'were': 3, 'where': 1, 'with': 22, 'you': 16, 'your': 21}\n"
          ]
        }
      ],
      "source": [
        "# Ordenar las claves de forma ascendente\n",
        "claves_ordenadas = sorted(word_freq.keys())\n",
        "\n",
        "# Crear un nuevo diccionario con las claves ordenadas\n",
        "word_freq2 = {}\n",
        "for clave in claves_ordenadas:\n",
        "    word_freq2[clave] = word_freq[clave]\n",
        "\n",
        "# Imprimir el nuevo diccionario\n",
        "print(\"word_freq2 basado en word_freq con las claves ordenadas de forma ascendente:\")\n",
        "print(word_freq2)"
      ]
    },
    {
      "cell_type": "markdown",
      "metadata": {
        "id": "JG23V28brn1q"
      },
      "source": [
        "#### Ordena los valores de `word_freq` de forma ascendente.\n",
        "\n",
        "Ordenar los valores de un diccionario es más complicado que ordenar las claves porque los valores de un diccionario no son únicos. Por lo tanto, no puedes usar la misma forma en que ordenaste las claves del diccionario para ordenar los valores del diccionario.\n",
        "\n",
        "La forma de ordenar un diccionario por valor es utilizar las funciones `sorted` y `operator.itemgetter`. El siguiente fragmento de código se te proporciona para que lo pruebes. Te dará una lista de tuplas en la que cada tupla contiene la clave y el valor de un elemento del diccionario. Y la lista está ordenada basada en el valor del diccionario ( [referencia](http://thomas-cokelaer.info/blog/2017/12/how-to-sort-a-dictionary-by-values-in-python/)\n",
        ").\n",
        "\n",
        "```python\n",
        "import operator\n",
        "sorted_tups = sorted(word_freq.items(), key=operator.itemgetter(1))\n",
        "print(sorted_tups)\n",
        "```\n",
        "\n",
        "Por lo tanto, los pasos para ordenar `word_freq` por valor son:\n",
        "\n",
        "* Utilizando `sorted` y `operator.itemgetter`, obtén una lista de tuplas de los pares clave-valor del diccionario que está ordenada por el valor.\n",
        "\n",
        "* Crea un diccionario vacío llamado `word_freq2`.\n",
        "\n",
        "* Itera la lista de tuplas. Inserta cada par clave-valor en `word_freq2` como un objeto.\n",
        "\n",
        "Imprime `word_freq2` para confirmar que tu diccionario tiene sus valores ordenados. Tu salida debería ser:\n",
        "\n",
        "```python\n",
        "{'conversation': 1, \"we're\": 1, 'plate': 1, 'sour': 1, 'jukebox': 1, 'taxi': 1, 'fast': 1, 'bag': 1, 'man': 1, 'going': 1, 'one': 1, 'backseat': 1, 'friends': 1, 'take': 1, 'play': 1, 'okay': 1, 'begin': 1, 'over': 1, 'just': 1, 'are': 1, 'tell': 1, 'drinking': 1, 'our': 1, 'where': 1, \"i'll\": 1, 'all': 1, \"isn't\": 1, 'make': 1, 'lover': 1, 'get': 1, 'radio': 1, 'give': 1, 'can': 1, 'club': 1, 'it': 1, 'out': 1, 'chance': 1, 'first': 1, 'table': 1, 'thrifty': 1, 'driver': 1, 'slow': 1, 'dance': 1, 'trust': 1, 'family': 1, 'week': 1, 'date': 1, 'leave': 1, 'at': 1, 'hand': 1, 'how': 1, 'eat': 1, 'about': 1, 'story': 1, 'sweet': 1, 'best': 1, 'let': 1, 'van': 1, 'shots': 1, 'place': 1, 'find': 1, 'kiss': 1, 'stop': 1, 'bar': 1, \"don't\": 2, 'mind': 2, 'know': 2, 'so': 2, 'start': 2, 'boy': 2, 'girl': 2, 'singing': 2, 'doing': 2, 'somebody': 2, 'handmade': 2, 'may': 2, 'that': 2, 'much': 2, 'grab': 2, 'was': 2, 'say': 2, 'waist': 2, 'want': 2, \"let's\": 2, 'not': 2, 'crazy': 2, 'go': 2, 'to': 2, 'fill': 2, 'hours': 2, 'push': 3, 'then': 3, 'put': 3, 'room': 3, 'magnet': 3, 'up': 3, 'pull': 3, 'last': 3, 'do': 3, 'smell': 3, 'although': 3, 'falling': 3, 'were': 3, 'night': 3, 'heart': 3, 'for': 3, 'bedsheets': 3, 'talk': 4, 'too': 5, 'is': 5, 'every': 6, 'new': 6, 'follow': 6, 'brand': 6, 'of': 6, 'i': 6, 'day': 6, 'lead': 6, 'shape': 6, 'discovering': 6, 'something': 6, 'we': 7, 'a': 8, 'like': 10, 'me': 10, 'now': 11, 'baby': 14, 'you': 16, 'be': 16, 'body': 17, 'the': 18, 'your': 21, 'with': 22, \"i'm\": 23, 'and': 23, 'love': 25, 'in': 27, 'my': 33, 'come': 37, 'on': 40}\n",
        "```"
      ]
    },
    {
      "cell_type": "code",
      "execution_count": 38,
      "metadata": {
        "colab": {
          "base_uri": "https://localhost:8080/"
        },
        "id": "afXtfRzbrn1q",
        "outputId": "b4196ef7-f818-4919-c9fc-0ca48f595503"
      },
      "outputs": [
        {
          "output_type": "stream",
          "name": "stdout",
          "text": [
            "word_freq2 con los valores ordenados:\n",
            "{'conversation': 1, \"we're\": 1, 'plate': 1, 'sour': 1, 'jukebox': 1, 'taxi': 1, 'fast': 1, 'bag': 1, 'man': 1, 'going': 1, 'one': 1, 'backseat': 1, 'friends': 1, 'take': 1, 'play': 1, 'okay': 1, 'begin': 1, 'over': 1, 'just': 1, 'are': 1, 'tell': 1, 'drinking': 1, 'our': 1, 'where': 1, \"don't\": 2, 'mind': 2, 'know': 2, 'so': 2, 'start': 2, 'boy': 2, 'girl': 2, 'singing': 2, 'push': 3, 'then': 3, 'put': 3, 'every': 6, 'we': 7, 'now': 11, 'baby': 14, 'you': 16, 'body': 17, 'love': 25}\n"
          ]
        }
      ],
      "source": [
        "import operator\n",
        "\n",
        "# Ordenar el diccionario por valor de forma ascendente\n",
        "word_freq_ordenado = sorted(word_freq.items(), key=operator.itemgetter(1))\n",
        "\n",
        "# Crear un nuevo diccionario con los valores ordenados\n",
        "word_freq2 = {}\n",
        "for clave, valor in word_freq_ordenado:\n",
        "    word_freq2[clave] = valor\n",
        "\n",
        "# Imprimir el nuevo diccionario\n",
        "print(\"word_freq2 con los valores ordenados:\")\n",
        "print(word_freq2)\n"
      ]
    },
    {
      "cell_type": "code",
      "source": [
        "word_freq2"
      ],
      "metadata": {
        "colab": {
          "base_uri": "https://localhost:8080/"
        },
        "id": "ObMoBkHQxE7m",
        "outputId": "fad6abf2-3fb5-4d8c-ee58-cb94eb425c14"
      },
      "execution_count": 39,
      "outputs": [
        {
          "output_type": "execute_result",
          "data": {
            "text/plain": [
              "{'conversation': 1,\n",
              " \"we're\": 1,\n",
              " 'plate': 1,\n",
              " 'sour': 1,\n",
              " 'jukebox': 1,\n",
              " 'taxi': 1,\n",
              " 'fast': 1,\n",
              " 'bag': 1,\n",
              " 'man': 1,\n",
              " 'going': 1,\n",
              " 'one': 1,\n",
              " 'backseat': 1,\n",
              " 'friends': 1,\n",
              " 'take': 1,\n",
              " 'play': 1,\n",
              " 'okay': 1,\n",
              " 'begin': 1,\n",
              " 'over': 1,\n",
              " 'just': 1,\n",
              " 'are': 1,\n",
              " 'tell': 1,\n",
              " 'drinking': 1,\n",
              " 'our': 1,\n",
              " 'where': 1,\n",
              " \"don't\": 2,\n",
              " 'mind': 2,\n",
              " 'know': 2,\n",
              " 'so': 2,\n",
              " 'start': 2,\n",
              " 'boy': 2,\n",
              " 'girl': 2,\n",
              " 'singing': 2,\n",
              " 'push': 3,\n",
              " 'then': 3,\n",
              " 'put': 3,\n",
              " 'every': 6,\n",
              " 'we': 7,\n",
              " 'now': 11,\n",
              " 'baby': 14,\n",
              " 'you': 16,\n",
              " 'body': 17,\n",
              " 'love': 25}"
            ]
          },
          "metadata": {},
          "execution_count": 39
        }
      ]
    }
  ],
  "metadata": {
    "kernelspec": {
      "display_name": "Python 3 (ipykernel)",
      "language": "python",
      "name": "python3"
    },
    "language_info": {
      "codemirror_mode": {
        "name": "ipython",
        "version": 3
      },
      "file_extension": ".py",
      "mimetype": "text/x-python",
      "name": "python",
      "nbconvert_exporter": "python",
      "pygments_lexer": "ipython3",
      "version": "3.9.13"
    },
    "vscode": {
      "interpreter": {
        "hash": "aee8b7b246df8f9039afb4144a1f6fd8d2ca17a180786b69acc140d282b71a49"
      }
    },
    "colab": {
      "provenance": []
    }
  },
  "nbformat": 4,
  "nbformat_minor": 0
}