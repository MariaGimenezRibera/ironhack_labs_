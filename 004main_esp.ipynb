{
  "cells": [
    {
      "cell_type": "markdown",
      "metadata": {
        "id": "p00sGJrg3Viv"
      },
      "source": [
        "# Functions"
      ]
    },
    {
      "cell_type": "markdown",
      "metadata": {
        "id": "PDW-H-m13Vi2"
      },
      "source": [
        "En este laboratorio pondremos en práctica algunos de los conceptos que hemos aprendido en los últimos días.\n",
        "\n",
        "`NOTA: En este laboratorio deberías intentar escribir todas las funciones por ti mismo utilizando solo la sintaxis más básica de Python y sin funciones como len, count, sum, max, min, in, etc. Dale una oportunidad. 🧑🏻‍💻👩🏻‍💻`\n",
        "\n",
        "La celda después de cada ejercicio contiene algunas pruebas para verificar si tu función funciona como se espera."
      ]
    },
    {
      "cell_type": "code",
      "source": [
        "pip install mod"
      ],
      "metadata": {
        "colab": {
          "base_uri": "https://localhost:8080/"
        },
        "id": "BW-KwyGL345Q",
        "outputId": "c6f02318-6460-4dad-eb9f-9973a9180153"
      },
      "execution_count": 8,
      "outputs": [
        {
          "output_type": "stream",
          "name": "stdout",
          "text": [
            "Requirement already satisfied: mod in /usr/local/lib/python3.10/dist-packages (0.3.0)\n"
          ]
        }
      ]
    },
    {
      "cell_type": "code",
      "execution_count": 14,
      "metadata": {
        "id": "k9q6G_kN3Vi4"
      },
      "outputs": [],
      "source": [
        "from testing import *\n",
        "import unittest"
      ]
    },
    {
      "cell_type": "markdown",
      "metadata": {
        "id": "moxqMiV03Vi6"
      },
      "source": [
        "## 1. Escribe una función que devuelva el mayor de dos números"
      ]
    },
    {
      "cell_type": "code",
      "execution_count": 1,
      "metadata": {
        "id": "oMEodz2J3Vi7"
      },
      "outputs": [],
      "source": [
        "def greater(a, b):\n",
        "    if a > b:\n",
        "        return a\n",
        "    else:\n",
        "        return b\n"
      ]
    },
    {
      "cell_type": "code",
      "execution_count": 15,
      "metadata": {
        "colab": {
          "base_uri": "https://localhost:8080/"
        },
        "id": "C5j-WKJG3Vi7",
        "outputId": "f84e1837-c632-4b15-981a-14852fa7d605"
      },
      "outputs": [
        {
          "output_type": "stream",
          "name": "stderr",
          "text": [
            "....................................................................................................\n",
            "----------------------------------------------------------------------\n",
            "Ran 100 tests in 0.172s\n",
            "\n",
            "OK\n"
          ]
        }
      ],
      "source": [
        "# Para testear tu función\n",
        "test_greater(greater)"
      ]
    },
    {
      "cell_type": "markdown",
      "metadata": {
        "id": "wDUZvuJ33Vi8"
      },
      "source": [
        "## 2. Ahora escribe una función que devuelva el elemento más"
      ]
    },
    {
      "cell_type": "code",
      "execution_count": 11,
      "metadata": {
        "id": "xe14AQmw3Vi9"
      },
      "outputs": [],
      "source": [
        "def greatest(lst):\n",
        "    max_num = lst[0]\n",
        "    for num in lst:\n",
        "        if num > max_num:\n",
        "            max_num = num\n",
        "    return max_num"
      ]
    },
    {
      "cell_type": "code",
      "execution_count": 16,
      "metadata": {
        "colab": {
          "base_uri": "https://localhost:8080/"
        },
        "id": "ZHCioyHm3Vi9",
        "outputId": "a9026297-aae8-4c54-81e0-645ba8aed8bb"
      },
      "outputs": [
        {
          "output_type": "stream",
          "name": "stderr",
          "text": [
            "....................................................................................................\n",
            "----------------------------------------------------------------------\n",
            "Ran 100 tests in 0.125s\n",
            "\n",
            "OK\n"
          ]
        }
      ],
      "source": [
        "# Para testear tu función\n",
        "test_greatest(greatest)"
      ]
    },
    {
      "cell_type": "markdown",
      "metadata": {
        "id": "9WBECny63Vi-"
      },
      "source": [
        "## 3. Escribe una función que sume todos los elementos de una lista\n"
      ]
    },
    {
      "cell_type": "code",
      "execution_count": 17,
      "metadata": {
        "id": "UsKgU9P_3Vi-"
      },
      "outputs": [],
      "source": [
        "def sum_all(lst):\n",
        "    total = 0\n",
        "    for num in lst:\n",
        "        total += num\n",
        "    return total\n"
      ]
    },
    {
      "cell_type": "code",
      "execution_count": 18,
      "metadata": {
        "scrolled": true,
        "colab": {
          "base_uri": "https://localhost:8080/"
        },
        "id": "ey6W_Tug3Vi_",
        "outputId": "a267b929-c294-4c6b-9522-0ec2c5df0144"
      },
      "outputs": [
        {
          "output_type": "stream",
          "name": "stderr",
          "text": [
            "....................................................................................................\n",
            "----------------------------------------------------------------------\n",
            "Ran 100 tests in 0.116s\n",
            "\n",
            "OK\n"
          ]
        }
      ],
      "source": [
        "# Para testear tu función\n",
        "test_sum(sum_all)"
      ]
    },
    {
      "cell_type": "markdown",
      "metadata": {
        "id": "FMqMZKm33Vi_"
      },
      "source": [
        "## 4. Escribe otra función que multiplique todos los elementos de una lista"
      ]
    },
    {
      "cell_type": "code",
      "execution_count": 19,
      "metadata": {
        "id": "XcI7m4Xa3Vi_"
      },
      "outputs": [],
      "source": [
        "def mult_all(lst):\n",
        "    result = 1\n",
        "    for num in lst:\n",
        "        result *= num\n",
        "    return result"
      ]
    },
    {
      "cell_type": "code",
      "execution_count": 20,
      "metadata": {
        "scrolled": true,
        "colab": {
          "base_uri": "https://localhost:8080/"
        },
        "id": "IkQuBPYZ3Vi_",
        "outputId": "ef320858-f48d-4ce7-b686-a1cb3f065340"
      },
      "outputs": [
        {
          "output_type": "stream",
          "name": "stderr",
          "text": [
            "....................................................................................................\n",
            "----------------------------------------------------------------------\n",
            "Ran 100 tests in 0.156s\n",
            "\n",
            "OK\n"
          ]
        }
      ],
      "source": [
        "# Para testear tu función\n",
        "test_mult(mult_all)"
      ]
    },
    {
      "cell_type": "markdown",
      "metadata": {
        "id": "pctRwQRB3VjA"
      },
      "source": [
        "## 5. Ahora combina esas dos ideas y escribe una función que reciba una lista y ya sea \"+\" o \"*\", y produzca el resultado acorde"
      ]
    },
    {
      "cell_type": "code",
      "execution_count": 21,
      "metadata": {
        "id": "skp2gAkt3VjA"
      },
      "outputs": [],
      "source": [
        "def oper_all(arr, oper=\"*\"):\n",
        "    if oper == \"+\":\n",
        "        total = 0\n",
        "        for num in arr:\n",
        "            total += num\n",
        "        return total\n",
        "    elif oper == \"*\":\n",
        "        result = 1\n",
        "        for num in arr:\n",
        "            result *= num\n",
        "        return result\n",
        "    else:\n",
        "        return \"Operador no válido\"\n"
      ]
    },
    {
      "cell_type": "code",
      "execution_count": 22,
      "metadata": {
        "colab": {
          "base_uri": "https://localhost:8080/"
        },
        "id": "9400e3293VjA",
        "outputId": "838702b9-6c68-4a12-8440-7413bcdd5ada"
      },
      "outputs": [
        {
          "output_type": "stream",
          "name": "stderr",
          "text": [
            "....................................................................................................\n",
            "----------------------------------------------------------------------\n",
            "Ran 100 tests in 0.152s\n",
            "\n",
            "OK\n"
          ]
        }
      ],
      "source": [
        "# Para testear tu función\n",
        "test_operations(oper_all)"
      ]
    },
    {
      "cell_type": "markdown",
      "metadata": {
        "id": "qtwzDcGa3VjA"
      },
      "source": [
        "## 6. Escribe una función que devuelva el factorial de un número."
      ]
    },
    {
      "cell_type": "code",
      "execution_count": 23,
      "metadata": {
        "id": "Eu97LFY73VjB"
      },
      "outputs": [],
      "source": [
        "def factorial(n):\n",
        "    if n == 0:\n",
        "        return 1\n",
        "    else:\n",
        "        result = 1\n",
        "        for i in range(1, n + 1):\n",
        "            result *= i\n",
        "        return result\n"
      ]
    },
    {
      "cell_type": "code",
      "execution_count": null,
      "metadata": {
        "id": "xu3-JXGI3VjB"
      },
      "outputs": [],
      "source": [
        "# Fórmula factorial\n",
        "# n! = n * (n - 1) *...*1\n",
        "\n",
        "# Este código define una función llamada \"factorial\" que toma una entrada \"n\". La función utiliza un bucle for para iterar a través del rango de números\n",
        "# desde 1 hasta n+1. Para cada número en ese rango, multiplica el valor actual de x por el número en el rango. Al final del bucle,\n",
        "# la función devuelve el valor final de x, que será el factorial del número de entrada \"n\".\n",
        "\n",
        "# El factorial de un entero positivo n es el producto de todos los enteros positivos menores o iguales a n.\n",
        "# Por ejemplo, el factorial de 6 (escrito \"6!\") es 6 * 5 * 4 * 3 * 2 * 1 = 720.\n",
        "\n",
        "# Así que esta función toma una entrada de cualquier entero positivo y devuelve el factorial de ese número."
      ]
    },
    {
      "cell_type": "code",
      "execution_count": 24,
      "metadata": {
        "colab": {
          "base_uri": "https://localhost:8080/"
        },
        "id": "0mBy2dHf3VjB",
        "outputId": "b116c220-4b12-4da0-95c3-b5bd4d8b4ac5"
      },
      "outputs": [
        {
          "output_type": "stream",
          "name": "stderr",
          "text": [
            "....................................................................................................\n",
            "----------------------------------------------------------------------\n",
            "Ran 100 tests in 0.172s\n",
            "\n",
            "OK\n"
          ]
        }
      ],
      "source": [
        "# This will test your function\n",
        "test_factorial(factorial)"
      ]
    },
    {
      "cell_type": "markdown",
      "metadata": {
        "id": "5HzFXkhx3VjB"
      },
      "source": [
        "## 7. Escribe una función que tome una lista y devuelva una lista de los valores únicos.\n",
        "\n",
        "`NOTE: No podemos usar set. 🤔`"
      ]
    },
    {
      "cell_type": "code",
      "execution_count": 26,
      "metadata": {
        "id": "aZztDPBQ3VjB"
      },
      "outputs": [],
      "source": [
        "def unique(lst_un):\n",
        "    unique_list = []\n",
        "    for item in lst_un:\n",
        "        if item not in unique_list:\n",
        "            unique_list.append(item)\n",
        "    return unique_list\n"
      ]
    },
    {
      "cell_type": "code",
      "execution_count": 27,
      "metadata": {
        "colab": {
          "base_uri": "https://localhost:8080/"
        },
        "id": "0tHuJcVi3VjC",
        "outputId": "67956027-2f48-4baf-cbe6-edb3add17fcf"
      },
      "outputs": [
        {
          "output_type": "stream",
          "name": "stderr",
          "text": [
            "....................................................................................................\n",
            "----------------------------------------------------------------------\n",
            "Ran 100 tests in 0.297s\n",
            "\n",
            "OK\n"
          ]
        }
      ],
      "source": [
        "# Para testear tu función\n",
        "test_unique(unique)"
      ]
    },
    {
      "cell_type": "markdown",
      "metadata": {
        "id": "bhYJplRx3VjC"
      },
      "source": [
        "## 8. Escribe una función que devuelva la moda de una lista, es decir: el elemento que aparece más veces.\n",
        "\n",
        "`NOTE: No se debe usar count... 🧐`"
      ]
    },
    {
      "cell_type": "code",
      "execution_count": 28,
      "metadata": {
        "id": "owVWm7ti3VjC"
      },
      "outputs": [],
      "source": [
        "def mode_counter(arr):\n",
        "    # Crear un diccionario para contar la frecuencia de cada elemento\n",
        "    freq_dict = {}\n",
        "    for item in arr:\n",
        "        if item in freq_dict:\n",
        "            freq_dict[item] += 1\n",
        "        else:\n",
        "            freq_dict[item] = 1\n",
        "\n",
        "    # Encontrar el elemento con la frecuencia máxima\n",
        "    max_freq = 0\n",
        "    mode = None\n",
        "    for key, value in freq_dict.items():\n",
        "        if value > max_freq:\n",
        "            max_freq = value\n",
        "            mode = key\n",
        "\n",
        "    return mode\n"
      ]
    },
    {
      "cell_type": "code",
      "execution_count": 29,
      "metadata": {
        "colab": {
          "base_uri": "https://localhost:8080/"
        },
        "id": "Cp64gQ4b3VjC",
        "outputId": "48ba600e-b8a0-43cb-9be8-e9bccf805632"
      },
      "outputs": [
        {
          "output_type": "stream",
          "name": "stderr",
          "text": [
            "....................................................................................................\n",
            "----------------------------------------------------------------------\n",
            "Ran 100 tests in 0.153s\n",
            "\n",
            "OK\n"
          ]
        }
      ],
      "source": [
        "# Para testear tu función\n",
        "test_mode(mode_counter)"
      ]
    },
    {
      "cell_type": "markdown",
      "metadata": {
        "id": "HcYrzdxp3VjC"
      },
      "source": [
        "## 9. Escribe una función que calcule la desviación estándar de una lista.\n",
        "`NOTE: no utilices librerías ni ninguna función ya construida. 😉`"
      ]
    },
    {
      "cell_type": "code",
      "source": [
        "def st_dev(list_sd):\n",
        "    n = len(list_sd)\n",
        "    if n <= 1:\n",
        "        return 0.0\n",
        "    mean = sum(list_sd) / n\n",
        "    sum_sq_diff = sum((num - mean) ** 2 for num in list_sd)\n",
        "    variance = sum_sq_diff / (n - 1)  # Apply Bessel's correction\n",
        "    std_dev = variance ** 0.5\n",
        "    return std_dev\n",
        "\n",
        "numbers = [10, 15, 20, 25, 30]\n",
        "print(\"List of numbers:\", numbers)\n",
        "print(\"Standard deviation (custom function):\", st_dev(numbers))\n"
      ],
      "metadata": {
        "colab": {
          "base_uri": "https://localhost:8080/"
        },
        "id": "oQF5PTng79HA",
        "outputId": "36567d80-8ce1-4432-9baa-d3766cecef00"
      },
      "execution_count": 39,
      "outputs": [
        {
          "output_type": "stream",
          "name": "stdout",
          "text": [
            "List of numbers: [10, 15, 20, 25, 30]\n",
            "Standard deviation (custom function): 7.905694150420948\n"
          ]
        }
      ]
    },
    {
      "cell_type": "code",
      "execution_count": 40,
      "metadata": {
        "colab": {
          "base_uri": "https://localhost:8080/"
        },
        "id": "3_xngqzf3VjD",
        "outputId": "155edc93-df05-40ed-82ae-8332b7725fd0"
      },
      "outputs": [
        {
          "output_type": "stream",
          "name": "stderr",
          "text": [
            "....................................................................................................\n",
            "----------------------------------------------------------------------\n",
            "Ran 100 tests in 0.133s\n",
            "\n",
            "OK\n"
          ]
        }
      ],
      "source": [
        "# Para testear tu función\n",
        "test_stdev(st_dev)"
      ]
    },
    {
      "cell_type": "markdown",
      "metadata": {
        "id": "hbO2Zzf73VjD"
      },
      "source": [
        "## 10. Escribe una función para verificar si una cadena es un pangrama, es decir: si contiene todas las letras del alfabeto al menos una vez. Ten en cuenta que las cadenas pueden contener caracteres que no son letras."
      ]
    },
    {
      "cell_type": "code",
      "execution_count": 41,
      "metadata": {
        "id": "hn-kEUTn3VjD"
      },
      "outputs": [],
      "source": [
        "def pangram(s):\n",
        "    # Convertir la cadena a minúsculas para ignorar mayúsculas y minúsculas\n",
        "    s = s.lower()\n",
        "    # Inicializar un conjunto para almacenar las letras encontradas en la cadena\n",
        "    letters_found = set()\n",
        "    # Iterar sobre cada caracter en la cadena\n",
        "    for char in s:\n",
        "        # Verificar si el caracter es una letra del alfabeto\n",
        "        if char.isalpha():\n",
        "            # Agregar la letra al conjunto de letras encontradas\n",
        "            letters_found.add(char)\n",
        "    # Verificar si el conjunto de letras encontradas tiene todas las letras del alfabeto\n",
        "    return len(letters_found) == 26"
      ]
    },
    {
      "cell_type": "code",
      "execution_count": 42,
      "metadata": {
        "colab": {
          "base_uri": "https://localhost:8080/"
        },
        "id": "jvBMXm643VjD",
        "outputId": "0ffd12bd-ad52-4afe-81f5-de07a8f08e05"
      },
      "outputs": [
        {
          "output_type": "stream",
          "name": "stderr",
          "text": [
            "..............................\n",
            "----------------------------------------------------------------------\n",
            "Ran 30 tests in 0.052s\n",
            "\n",
            "OK\n"
          ]
        }
      ],
      "source": [
        "# Para testear tu función\n",
        "test_pangram(pangram)"
      ]
    },
    {
      "cell_type": "markdown",
      "metadata": {
        "id": "jDazIlwn3VjE"
      },
      "source": [
        "## 11. Escribe una función que reciba una cadena de palabras separadas por comas y devuelva una cadena de palabras separadas por comas ordenadas alfabéticamente.\n",
        "\n",
        "`NOTA: Puedes usar sorted pero no split y definitivamente no join! 🤪`"
      ]
    },
    {
      "cell_type": "code",
      "execution_count": 43,
      "metadata": {
        "id": "I1pJT6e03VjE"
      },
      "outputs": [],
      "source": [
        "def sort_alpha(s):\n",
        "    # Inicializar una lista para almacenar las palabras\n",
        "    words = ['']\n",
        "    # Iterar sobre cada caracter en la cadena\n",
        "    for char in s:\n",
        "        # Si el caracter es una coma, agregar una nueva cadena vacía a la lista\n",
        "        if char == ',':\n",
        "            words.append('')\n",
        "        # Si el caracter no es una coma, agregarlo a la última palabra en la lista\n",
        "        else:\n",
        "            words[-1] += char\n",
        "    # Ordenar las palabras alfabéticamente\n",
        "    sorted_words = sorted(words)\n",
        "    # Unir las palabras ordenadas en una cadena separada por comas\n",
        "    result = ''\n",
        "    for word in sorted_words:\n",
        "        result += word + ','\n",
        "    # Eliminar la coma adicional al final\n",
        "    result = result[:-1]\n",
        "    return result"
      ]
    },
    {
      "cell_type": "code",
      "execution_count": 44,
      "metadata": {
        "colab": {
          "base_uri": "https://localhost:8080/"
        },
        "id": "knJlwKx83VjE",
        "outputId": "86d717f8-9da1-46e6-9387-133adc02ae1c"
      },
      "outputs": [
        {
          "output_type": "stream",
          "name": "stderr",
          "text": [
            "....................................................................................................\n",
            "----------------------------------------------------------------------\n",
            "Ran 100 tests in 0.120s\n",
            "\n",
            "OK\n"
          ]
        }
      ],
      "source": [
        "# Para testear tu función\n",
        "test_alpha(sort_alpha)"
      ]
    },
    {
      "cell_type": "markdown",
      "metadata": {
        "id": "E6FoL1my3VjE"
      },
      "source": [
        "## 12. Escribe una función para verificar si una contraseña dada es fuerte (al menos 8 caracteres, al menos una minúscula, al menos una mayúscula, al menos un número y al menos un carácter especial). Debería devolver True si es fuerte y False si no lo es."
      ]
    },
    {
      "cell_type": "code",
      "execution_count": 55,
      "metadata": {
        "id": "eZ5huAjU3VjE"
      },
      "outputs": [],
      "source": [
        "def check_pass(password):\n",
        "    # Verificar la longitud mínima de la contraseña\n",
        "    if len(password) < 8:\n",
        "        return False\n",
        "\n",
        "    # Inicializar variables para verificar los criterios\n",
        "    has_lower = False\n",
        "    has_upper = False\n",
        "    has_digit = False\n",
        "    has_special = False\n",
        "\n",
        "    # Verificar cada caracter de la contraseña\n",
        "    for char in password:\n",
        "        # Verificar si el caracter es una minúscula\n",
        "        if char.islower():\n",
        "            has_lower = True\n",
        "        # Verificar si el caracter es una mayúscula\n",
        "        elif char.isupper():\n",
        "            has_upper = True\n",
        "        # Verificar si el caracter es un dígito\n",
        "        elif char.isdigit():\n",
        "            has_digit = True\n",
        "        # Verificar si el caracter es un carácter especial\n",
        "        elif char in \"!@#$%^&*()_+{}:;<>,.?/~`\":\n",
        "            has_special = True\n",
        "\n",
        "    # Verificar si se cumplen todos los criterios\n",
        "    return has_lower and has_upper and has_digit and has_special"
      ]
    },
    {
      "cell_type": "code",
      "execution_count": 57,
      "metadata": {
        "colab": {
          "base_uri": "https://localhost:8080/"
        },
        "id": "4AZiHUMQ3VjM",
        "outputId": "e243baf0-b263-49bf-fe8e-996bf625c4c1"
      },
      "outputs": [
        {
          "output_type": "stream",
          "name": "stderr",
          "text": [
            "....................................................................................................\n",
            "----------------------------------------------------------------------\n",
            "Ran 100 tests in 0.184s\n",
            "\n",
            "OK\n"
          ]
        }
      ],
      "source": [
        "# Para testear tu función\n",
        "test_pass(check_pass)"
      ]
    }
  ],
  "metadata": {
    "kernelspec": {
      "display_name": "Python 3 (ipykernel)",
      "language": "python",
      "name": "python3"
    },
    "language_info": {
      "codemirror_mode": {
        "name": "ipython",
        "version": 3
      },
      "file_extension": ".py",
      "mimetype": "text/x-python",
      "name": "python",
      "nbconvert_exporter": "python",
      "pygments_lexer": "ipython3",
      "version": "3.9.13"
    },
    "vscode": {
      "interpreter": {
        "hash": "aee8b7b246df8f9039afb4144a1f6fd8d2ca17a180786b69acc140d282b71a49"
      }
    },
    "colab": {
      "provenance": []
    }
  },
  "nbformat": 4,
  "nbformat_minor": 0
}