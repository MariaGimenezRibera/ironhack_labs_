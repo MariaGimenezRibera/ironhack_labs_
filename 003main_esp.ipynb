{
  "cells": [
    {
      "cell_type": "markdown",
      "metadata": {
        "id": "Ytx6N8mZ01FA"
      },
      "source": [
        "# List Comprehensions\n",
        "\n",
        "Completa el siguiente conjunto de ejercicios para solidificar tu conocimiento sobre las comprensiones de lista."
      ]
    },
    {
      "cell_type": "code",
      "execution_count": 1,
      "metadata": {
        "id": "o2bnk5ht01FE"
      },
      "outputs": [],
      "source": [
        "import os"
      ]
    },
    {
      "cell_type": "markdown",
      "metadata": {
        "id": "gShZ3N3T01FF"
      },
      "source": [
        "#### 1. Usa una list comprehension para crear e imprimir una lista de enteros consecutivos que comience con 1 y termine con 50."
      ]
    },
    {
      "cell_type": "code",
      "execution_count": 2,
      "metadata": {
        "colab": {
          "base_uri": "https://localhost:8080/"
        },
        "id": "1TRUcmYn01FG",
        "outputId": "eef81a87-bac0-4552-ac8d-232f9c4cb34e"
      },
      "outputs": [
        {
          "output_type": "stream",
          "name": "stdout",
          "text": [
            "Lista de enteros consecutivos: [1, 2, 3, 4, 5, 6, 7, 8, 9, 10, 11, 12, 13, 14, 15, 16, 17, 18, 19, 20, 21, 22, 23, 24, 25, 26, 27, 28, 29, 30, 31, 32, 33, 34, 35, 36, 37, 38, 39, 40, 41, 42, 43, 44, 45, 46, 47, 48, 49, 50]\n"
          ]
        }
      ],
      "source": [
        "# Usar una list comprehension para crear una lista de enteros consecutivos de 1 a 50\n",
        "lista_enteros_consecutivos = [i for i in range(1, 51)]\n",
        "\n",
        "# Imprimir la lista de enteros consecutivos\n",
        "print(\"Lista de enteros consecutivos:\", lista_enteros_consecutivos)\n"
      ]
    },
    {
      "cell_type": "markdown",
      "metadata": {
        "id": "BTVxBcg301FG"
      },
      "source": [
        "#### 2. Usa una list comprehension para crear y imprimir una lista de numeros pares entre 2 y 200."
      ]
    },
    {
      "cell_type": "code",
      "execution_count": 3,
      "metadata": {
        "colab": {
          "base_uri": "https://localhost:8080/"
        },
        "id": "0c7ar6Aq01FH",
        "outputId": "dbe66a26-2ce2-43e6-b6ab-d0026bb429c9"
      },
      "outputs": [
        {
          "output_type": "stream",
          "name": "stdout",
          "text": [
            "Lista de números pares entre 2 y 200: [2, 4, 6, 8, 10, 12, 14, 16, 18, 20, 22, 24, 26, 28, 30, 32, 34, 36, 38, 40, 42, 44, 46, 48, 50, 52, 54, 56, 58, 60, 62, 64, 66, 68, 70, 72, 74, 76, 78, 80, 82, 84, 86, 88, 90, 92, 94, 96, 98, 100, 102, 104, 106, 108, 110, 112, 114, 116, 118, 120, 122, 124, 126, 128, 130, 132, 134, 136, 138, 140, 142, 144, 146, 148, 150, 152, 154, 156, 158, 160, 162, 164, 166, 168, 170, 172, 174, 176, 178, 180, 182, 184, 186, 188, 190, 192, 194, 196, 198, 200]\n"
          ]
        }
      ],
      "source": [
        "# Usar una list comprehension para crear una lista de números pares entre 2 y 200\n",
        "numeros_pares = [num for num in range(2, 201) if num % 2 == 0]\n",
        "\n",
        "# Imprimir la lista de números pares\n",
        "print(\"Lista de números pares entre 2 y 200:\", numeros_pares)\n"
      ]
    },
    {
      "cell_type": "markdown",
      "metadata": {
        "id": "VtNIuRra01FH"
      },
      "source": [
        "#### 3. Usa una comprensión de lista para crear e imprimir una lista que contenga todos los elementos del siguiente array de 10 x 4."
      ]
    },
    {
      "cell_type": "code",
      "execution_count": 5,
      "metadata": {
        "id": "XixhMUdU01FH"
      },
      "outputs": [],
      "source": [
        "a = [[0.84062117, 0.48006452, 0.7876326 , 0.77109654],\n",
        "       [0.44409793, 0.09014516, 0.81835917, 0.87645456],\n",
        "       [0.7066597 , 0.09610873, 0.41247947, 0.57433389],\n",
        "       [0.29960807, 0.42315023, 0.34452557, 0.4751035 ],\n",
        "       [0.17003563, 0.46843998, 0.92796258, 0.69814654],\n",
        "       [0.41290051, 0.19561071, 0.16284783, 0.97016248],\n",
        "       [0.71725408, 0.87702738, 0.31244595, 0.76615487],\n",
        "       [0.20754036, 0.57871812, 0.07214068, 0.40356048],\n",
        "       [0.12149553, 0.53222417, 0.9976855 , 0.12536346],\n",
        "       [0.80930099, 0.50962849, 0.94555126, 0.33364763]];"
      ]
    },
    {
      "cell_type": "code",
      "execution_count": 6,
      "metadata": {
        "colab": {
          "base_uri": "https://localhost:8080/"
        },
        "id": "8bLy_BEd01FI",
        "outputId": "cccf3c60-72f0-429f-d92a-fe5434ccc26a"
      },
      "outputs": [
        {
          "output_type": "stream",
          "name": "stdout",
          "text": [
            "Lista plana: [0.84062117, 0.48006452, 0.7876326, 0.77109654, 0.44409793, 0.09014516, 0.81835917, 0.87645456, 0.7066597, 0.09610873, 0.41247947, 0.57433389, 0.29960807, 0.42315023, 0.34452557, 0.4751035, 0.17003563, 0.46843998, 0.92796258, 0.69814654, 0.41290051, 0.19561071, 0.16284783, 0.97016248, 0.71725408, 0.87702738, 0.31244595, 0.76615487, 0.20754036, 0.57871812, 0.07214068, 0.40356048, 0.12149553, 0.53222417, 0.9976855, 0.12536346, 0.80930099, 0.50962849, 0.94555126, 0.33364763]\n"
          ]
        }
      ],
      "source": [
        "# Usar una comprensión de lista para crear una lista plana con todos los elementos del array\n",
        "lista_plana = [elemento for fila in a for elemento in fila]\n",
        "\n",
        "# Imprimir la lista plana\n",
        "print(\"Lista plana:\", lista_plana)"
      ]
    },
    {
      "cell_type": "markdown",
      "metadata": {
        "id": "K0sLovNi01FI"
      },
      "source": [
        "#### 4. Añade una condición a la comprensión de lista anterior para que solo se impriman los valores mayores o iguales a 0.5."
      ]
    },
    {
      "cell_type": "code",
      "execution_count": 7,
      "metadata": {
        "colab": {
          "base_uri": "https://localhost:8080/"
        },
        "id": "lSMAXPa501FI",
        "outputId": "cecfc85a-b83e-4569-b75a-5c5bd2c74773"
      },
      "outputs": [
        {
          "output_type": "stream",
          "name": "stdout",
          "text": [
            "Lista plana con valores mayores o iguales a 0.5: [0.84062117, 0.7876326, 0.77109654, 0.81835917, 0.87645456, 0.7066597, 0.57433389, 0.92796258, 0.69814654, 0.97016248, 0.71725408, 0.87702738, 0.76615487, 0.57871812, 0.53222417, 0.9976855, 0.80930099, 0.50962849, 0.94555126]\n"
          ]
        }
      ],
      "source": [
        "# Usar una comprensión de lista con condición para crear una lista plana con los valores mayores o iguales a 0.5\n",
        "lista_plana = [elemento for fila in a for elemento in fila if elemento >= 0.5]\n",
        "\n",
        "# Imprimir la lista plana con los valores mayores o iguales a 0.5\n",
        "print(\"Lista plana con valores mayores o iguales a 0.5:\", lista_plana)"
      ]
    },
    {
      "cell_type": "markdown",
      "metadata": {
        "id": "OvOkTdId01FJ"
      },
      "source": [
        "#### 5. Usa una comprensión de lista para crear e imprimir una lista que contenga todos los elementos del siguiente array de 5 x 2 x 3."
      ]
    },
    {
      "cell_type": "code",
      "execution_count": 8,
      "metadata": {
        "id": "M44YImfB01FJ"
      },
      "outputs": [],
      "source": [
        "b = [[[0.55867166, 0.06210792, 0.08147297],\n",
        "        [0.82579068, 0.91512478, 0.06833034]],\n",
        "\n",
        "       [[0.05440634, 0.65857693, 0.30296619],\n",
        "        [0.06769833, 0.96031863, 0.51293743]],\n",
        "\n",
        "       [[0.09143215, 0.71893382, 0.45850679],\n",
        "        [0.58256464, 0.59005654, 0.56266457]],\n",
        "\n",
        "       [[0.71600294, 0.87392666, 0.11434044],\n",
        "        [0.8694668 , 0.65669313, 0.10708681]],\n",
        "\n",
        "       [[0.07529684, 0.46470767, 0.47984544],\n",
        "        [0.65368638, 0.14901286, 0.23760688]]];"
      ]
    },
    {
      "cell_type": "code",
      "execution_count": 9,
      "metadata": {
        "colab": {
          "base_uri": "https://localhost:8080/"
        },
        "id": "7ZVhWPui01FJ",
        "outputId": "76f8d3c2-23e3-4f09-9ce7-17d25ae8cb07"
      },
      "outputs": [
        {
          "output_type": "stream",
          "name": "stdout",
          "text": [
            "Lista plana: [0.55867166, 0.06210792, 0.08147297, 0.82579068, 0.91512478, 0.06833034, 0.05440634, 0.65857693, 0.30296619, 0.06769833, 0.96031863, 0.51293743, 0.09143215, 0.71893382, 0.45850679, 0.58256464, 0.59005654, 0.56266457, 0.71600294, 0.87392666, 0.11434044, 0.8694668, 0.65669313, 0.10708681, 0.07529684, 0.46470767, 0.47984544, 0.65368638, 0.14901286, 0.23760688]\n"
          ]
        }
      ],
      "source": [
        "# Usar una comprensión de lista para crear una lista plana con todos los elementos del array\n",
        "lista_plana = [elemento for sublista_externa in b for sublista_interna in sublista_externa for elemento in sublista_interna]\n",
        "\n",
        "# Imprimir la lista plana\n",
        "print(\"Lista plana:\", lista_plana)"
      ]
    },
    {
      "cell_type": "markdown",
      "metadata": {
        "id": "i77zlmL_01FK"
      },
      "source": [
        "#### 6. Añade una condición a la comprensión de lista anterior para que se imprima el último valor en cada subarray, pero solo si es menor o igual a 0.5."
      ]
    },
    {
      "cell_type": "code",
      "execution_count": 11,
      "metadata": {
        "colab": {
          "base_uri": "https://localhost:8080/"
        },
        "id": "DHxzX2n201FK",
        "outputId": "3eec26ff-c39b-4c75-adba-2a6ee222eb28"
      },
      "outputs": [
        {
          "output_type": "stream",
          "name": "stdout",
          "text": [
            "Últimos valores menores o iguales a 0.5 en cada subarray: [0.08147297, 0.06833034, 0.30296619, 0.45850679, 0.11434044, 0.10708681, 0.47984544, 0.23760688]\n"
          ]
        }
      ],
      "source": [
        "# Usar una comprensión de lista con condición para crear una lista que contenga el último valor en cada subarray si es menor o igual a 0.5\n",
        "lista_ultimos_valores = [sublista_interna[-1] for sublista_externa in b for sublista_interna in sublista_externa if sublista_interna[-1] <= 0.5]\n",
        "\n",
        "# Imprimir la lista de los últimos valores que cumplen la condición\n",
        "print(\"Últimos valores menores o iguales a 0.5 en cada subarray:\", lista_ultimos_valores)"
      ]
    },
    {
      "cell_type": "markdown",
      "metadata": {
        "id": "CeLC_AFi01FK"
      },
      "source": [
        "### Bonus\n",
        "\n",
        "Intenta resolver estas katas usando comprensiones de listas.\n",
        "\n",
        "**Fácil**\n",
        "- [Insertar valores](https://www.codewars.com/kata/invert-values)\n",
        "- [Suma Cuadrado(n)](https://www.codewars.com/kata/square-n-sum)\n",
        "- [Digitalizar](https://www.codewars.com/kata/digitize)\n",
        "- [Filtrado de listas](https://www.codewars.com/kata/list-filtering)\n",
        "- [Lista aritmética](https://www.codewars.com/kata/541da001259d9ca85d000688)\n",
        "\n",
        "**Medio**\n",
        "- [Múltiplos de 3 o 5](https://www.codewars.com/kata/514b92a657cdc65150000006)\n",
        "- [Conteo de positivos / suma de negativos](https://www.codewars.com/kata/count-of-positives-slash-sum-of-negatives)\n",
        "- [Categorizar nuevo miembro](https://www.codewars.com/kata/5502c9e7b3216ec63c0001aa)\n",
        "\n",
        "**Avanzado**\n",
        "- [Contador de tiempo en cola](https://www.codewars.com/kata/queue-time-counter)"
      ]
    }
  ],
  "metadata": {
    "kernelspec": {
      "display_name": "Python 3 (ipykernel)",
      "language": "python",
      "name": "python3"
    },
    "language_info": {
      "codemirror_mode": {
        "name": "ipython",
        "version": 3
      },
      "file_extension": ".py",
      "mimetype": "text/x-python",
      "name": "python",
      "nbconvert_exporter": "python",
      "pygments_lexer": "ipython3",
      "version": "3.9.13"
    },
    "vscode": {
      "interpreter": {
        "hash": "aee8b7b246df8f9039afb4144a1f6fd8d2ca17a180786b69acc140d282b71a49"
      }
    },
    "colab": {
      "provenance": []
    }
  },
  "nbformat": 4,
  "nbformat_minor": 0
}