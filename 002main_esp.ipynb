{
  "cells": [
    {
      "cell_type": "markdown",
      "metadata": {
        "id": "Oy_s__svyvll"
      },
      "source": [
        "## Palabras"
      ]
    },
    {
      "cell_type": "code",
      "execution_count": 1,
      "metadata": {
        "id": "yErN9rw4yvlq"
      },
      "outputs": [],
      "source": [
        "words = ['play', 'filling', 'bar', 'theatre', 'easygoing', 'date', 'lead', 'that', 'story',  'island']"
      ]
    },
    {
      "cell_type": "markdown",
      "metadata": {
        "id": "ojjFTagcyvlr"
      },
      "source": [
        "**Imprime todas las letras en mayuscula**"
      ]
    },
    {
      "cell_type": "code",
      "execution_count": 2,
      "metadata": {
        "colab": {
          "base_uri": "https://localhost:8080/"
        },
        "id": "-sZzGrvcyvlr",
        "outputId": "97a4280d-ef79-4959-c455-931766d95e12"
      },
      "outputs": [
        {
          "output_type": "stream",
          "name": "stdout",
          "text": [
            "PLAYFILLINGBARTHEATREEASYGOINGDATELEADTHATSTORYISLAND"
          ]
        }
      ],
      "source": [
        "for word in words:\n",
        "    for letter in word:\n",
        "        print(letter.upper(), end='')"
      ]
    },
    {
      "cell_type": "markdown",
      "metadata": {
        "id": "ns08YDYNyvls"
      },
      "source": [
        "**Crea una nueva lista que contenga 5 o más letras**"
      ]
    },
    {
      "cell_type": "code",
      "execution_count": 3,
      "metadata": {
        "colab": {
          "base_uri": "https://localhost:8080/"
        },
        "id": "7Z9r18L9yvls",
        "outputId": "94ada9c1-bbc6-45ff-8dbf-7558089fd104"
      },
      "outputs": [
        {
          "output_type": "stream",
          "name": "stdout",
          "text": [
            "Palabras con 5 o más letras: ['filling', 'theatre', 'easygoing', 'story', 'island']\n"
          ]
        }
      ],
      "source": [
        "# Crear una nueva lista con palabras de 5 o más letras\n",
        "longer_words = [word for word in words if len(word) >= 5]\n",
        "\n",
        "# Imprimir la nueva lista\n",
        "print(\"Palabras con 5 o más letras:\", longer_words)"
      ]
    },
    {
      "cell_type": "markdown",
      "metadata": {
        "id": "mqxnkKgIyvlt"
      },
      "source": [
        "**Imprime la primera palabra que empiece por 't'**"
      ]
    },
    {
      "cell_type": "code",
      "execution_count": 4,
      "metadata": {
        "colab": {
          "base_uri": "https://localhost:8080/"
        },
        "id": "hsBt1SXLyvlt",
        "outputId": "1fcad61a-aecf-4bd1-f2fb-d593be125369"
      },
      "outputs": [
        {
          "output_type": "stream",
          "name": "stdout",
          "text": [
            "Primera palabra que empieza por 't': theatre\n"
          ]
        }
      ],
      "source": [
        "# Buscar la primera palabra que empiece por 't'\n",
        "for word in words:\n",
        "    if word.startswith('t'):\n",
        "        print(\"Primera palabra que empieza por 't':\", word)\n",
        "        break"
      ]
    },
    {
      "cell_type": "markdown",
      "metadata": {
        "id": "qcGld4Ipyvlt"
      },
      "source": [
        "## Numeros"
      ]
    },
    {
      "cell_type": "markdown",
      "metadata": {
        "id": "i2k7l-m8yvlu"
      },
      "source": [
        "**Crea una lista que contenga el cuadraro de cada numero entre 1 y 10**"
      ]
    },
    {
      "cell_type": "code",
      "execution_count": 5,
      "metadata": {
        "colab": {
          "base_uri": "https://localhost:8080/"
        },
        "id": "GoD3l6-Lyvlu",
        "outputId": "aac5f33f-a325-4b56-de18-302809ff7a81"
      },
      "outputs": [
        {
          "output_type": "stream",
          "name": "stdout",
          "text": [
            "Lista de cuadrados: [1, 4, 9, 16, 25, 36, 49, 64, 81, 100]\n"
          ]
        }
      ],
      "source": [
        "# Crear una lista que contenga el cuadrado de cada número entre 1 y 10\n",
        "squares = [x ** 2 for x in range(1, 11)]\n",
        "\n",
        "# Imprimir la lista de cuadrados\n",
        "print(\"Lista de cuadrados:\", squares)\n"
      ]
    },
    {
      "cell_type": "markdown",
      "metadata": {
        "id": "M-GgaDGnyvlu"
      },
      "source": [
        "**Imprime una lista que contenga el cuadrado de cada número impar del 1 al 10**"
      ]
    },
    {
      "cell_type": "code",
      "execution_count": 6,
      "metadata": {
        "colab": {
          "base_uri": "https://localhost:8080/"
        },
        "id": "M5ItOMXMyvlu",
        "outputId": "0b72a7db-293a-43fe-ecb4-efa759aba460"
      },
      "outputs": [
        {
          "output_type": "stream",
          "name": "stdout",
          "text": [
            "Lista de cuadrados de números impares: [1, 9, 25, 49, 81]\n"
          ]
        }
      ],
      "source": [
        "# Crear una lista que contenga el cuadrado de cada número impar del 1 al 10\n",
        "squares_odd = [x ** 2 for x in range(1, 11) if x % 2 != 0]\n",
        "\n",
        "# Imprimir la lista de cuadrados de números impares\n",
        "print(\"Lista de cuadrados de números impares:\", squares_odd)\n"
      ]
    },
    {
      "cell_type": "markdown",
      "metadata": {
        "id": "wKqIjVSDyvlv"
      },
      "source": [
        "**Crear una lista con los cuadrados de todos los múltiplos de 8 por debajo de 1000**"
      ]
    },
    {
      "cell_type": "code",
      "execution_count": 7,
      "metadata": {
        "colab": {
          "base_uri": "https://localhost:8080/"
        },
        "id": "MuKite9Byvlv",
        "outputId": "5c5296ad-2e9d-43a7-be10-70e0c356e187"
      },
      "outputs": [
        {
          "output_type": "stream",
          "name": "stdout",
          "text": [
            "Lista de cuadrados de múltiplos de 8 por debajo de 1000: [64, 256, 576, 1024, 1600, 2304, 3136, 4096, 5184, 6400, 7744, 9216, 10816, 12544, 14400, 16384, 18496, 20736, 23104, 25600, 28224, 30976, 33856, 36864, 40000, 43264, 46656, 50176, 53824, 57600, 61504, 65536, 69696, 73984, 78400, 82944, 87616, 92416, 97344, 102400, 107584, 112896, 118336, 123904, 129600, 135424, 141376, 147456, 153664, 160000, 166464, 173056, 179776, 186624, 193600, 200704, 207936, 215296, 222784, 230400, 238144, 246016, 254016, 262144, 270400, 278784, 287296, 295936, 304704, 313600, 322624, 331776, 341056, 350464, 360000, 369664, 379456, 389376, 399424, 409600, 419904, 430336, 440896, 451584, 462400, 473344, 484416, 495616, 506944, 518400, 529984, 541696, 553536, 565504, 577600, 589824, 602176, 614656, 627264, 640000, 652864, 665856, 678976, 692224, 705600, 719104, 732736, 746496, 760384, 774400, 788544, 802816, 817216, 831744, 846400, 861184, 876096, 891136, 906304, 921600, 937024, 952576, 968256, 984064]\n"
          ]
        }
      ],
      "source": [
        "# Crear una lista con los cuadrados de todos los múltiplos de 8 por debajo de 1000\n",
        "squares_multiples_of_8 = [x ** 2 for x in range(8, 1000, 8)]\n",
        "\n",
        "# Imprimir la lista de cuadrados de múltiplos de 8\n",
        "print(\"Lista de cuadrados de múltiplos de 8 por debajo de 1000:\", squares_multiples_of_8)\n"
      ]
    },
    {
      "cell_type": "markdown",
      "metadata": {
        "id": "bbS2-2knyvlv"
      },
      "source": [
        "## People"
      ]
    },
    {
      "cell_type": "code",
      "execution_count": 9,
      "metadata": {
        "id": "ck_pWH1pyvlv"
      },
      "outputs": [],
      "source": [
        "people = [\n",
        "    {\n",
        "        \"name\": \"Juan\",\n",
        "        \"age\": 34,\n",
        "        \"n_kids\": 2\n",
        "    },\n",
        "    {\n",
        "        \"name\": \"Pepe\",\n",
        "        \"age\": 27,\n",
        "        \"n_kids\": 0\n",
        "    },\n",
        "    {\n",
        "        \"name\": \"Sonia\",\n",
        "        \"age\": 41,\n",
        "        \"n_kids\": 1\n",
        "    },\n",
        "    {\n",
        "        \"name\": \"Lucía\",\n",
        "        \"age\": 22,\n",
        "        \"n_kids\": 2\n",
        "    },\n",
        "    {\n",
        "        \"name\": \"Leo\",\n",
        "        \"age\": 55,\n",
        "        \"n_kids\": 5\n",
        "    }\n",
        "]"
      ]
    },
    {
      "cell_type": "markdown",
      "metadata": {
        "id": "NU3Wbxmeyvlw"
      },
      "source": [
        "**Cuánta gente hay?**"
      ]
    },
    {
      "cell_type": "code",
      "execution_count": 10,
      "metadata": {
        "colab": {
          "base_uri": "https://localhost:8080/"
        },
        "id": "p9AwZlM9yvlw",
        "outputId": "2d85640a-87c7-44de-a481-941be32750b5"
      },
      "outputs": [
        {
          "output_type": "stream",
          "name": "stdout",
          "text": [
            "Cantidad de personas: 5\n"
          ]
        }
      ],
      "source": [
        "# Contar cuántas personas hay\n",
        "cantidad_personas = len(people)\n",
        "\n",
        "# Imprimir la cantidad de personas\n",
        "print(\"Cantidad de personas:\", cantidad_personas)"
      ]
    },
    {
      "cell_type": "markdown",
      "metadata": {
        "id": "zS_4H3Ityvlw"
      },
      "source": [
        "**Cuanta gente tiene hijos**?"
      ]
    },
    {
      "cell_type": "code",
      "execution_count": 11,
      "metadata": {
        "colab": {
          "base_uri": "https://localhost:8080/"
        },
        "id": "FAwu5oSDyvlw",
        "outputId": "16cb3571-aa80-4ad1-caa7-bcead7aff622"
      },
      "outputs": [
        {
          "output_type": "stream",
          "name": "stdout",
          "text": [
            "Cantidad de personas con hijos: 4\n"
          ]
        }
      ],
      "source": [
        "# Contar cuántas personas tienen hijos\n",
        "cantidad_personas_con_hijos = sum(1 for person in people if person[\"n_kids\"] > 0)\n",
        "\n",
        "# Imprimir la cantidad de personas con hijos\n",
        "print(\"Cantidad de personas con hijos:\", cantidad_personas_con_hijos)"
      ]
    },
    {
      "cell_type": "markdown",
      "metadata": {
        "id": "CSXt2uGhyvlw"
      },
      "source": [
        "**Cuantos hijos tienen en total?**"
      ]
    },
    {
      "cell_type": "code",
      "execution_count": 12,
      "metadata": {
        "colab": {
          "base_uri": "https://localhost:8080/"
        },
        "id": "V6a5kc9Lyvlw",
        "outputId": "e59fd7d5-c709-49cd-8c48-c29b8085aed8"
      },
      "outputs": [
        {
          "output_type": "stream",
          "name": "stdout",
          "text": [
            "Total de hijos: 10\n"
          ]
        }
      ],
      "source": [
        "# Calcular cuántos hijos hay en total\n",
        "total_hijos = sum(person[\"n_kids\"] for person in people)\n",
        "\n",
        "# Imprimir el total de hijos\n",
        "print(\"Total de hijos:\", total_hijos)"
      ]
    },
    {
      "cell_type": "markdown",
      "metadata": {
        "id": "Fh66nkuFyvlw"
      },
      "source": [
        "**En un año, los nombres que terminen en \"a\" tendrán un niño extra. Crea una lista de diccionarios con la información de las personas en un año**"
      ]
    },
    {
      "cell_type": "code",
      "execution_count": 13,
      "metadata": {
        "colab": {
          "base_uri": "https://localhost:8080/"
        },
        "id": "K0isYDXzyvlx",
        "outputId": "8df50c05-be10-425d-d0af-1d6d5dcb0470"
      },
      "outputs": [
        {
          "output_type": "stream",
          "name": "stdout",
          "text": [
            "Información de las personas después de un año:\n",
            "{'name': 'Juan', 'age': 34, 'n_kids': 2}\n",
            "{'name': 'Pepe', 'age': 27, 'n_kids': 0}\n",
            "{'name': 'Sonia', 'age': 41, 'n_kids': 2}\n",
            "{'name': 'Lucía', 'age': 22, 'n_kids': 3}\n",
            "{'name': 'Leo', 'age': 55, 'n_kids': 5}\n"
          ]
        }
      ],
      "source": [
        "# Crear una lista de diccionarios con la información de las personas después de un año\n",
        "people_next_year = []\n",
        "for person in people:\n",
        "    # Copiar el diccionario original\n",
        "    new_person = person.copy()\n",
        "    # Incrementar el número de hijos si el nombre termina en \"a\"\n",
        "    if person[\"name\"].endswith(\"a\"):\n",
        "        new_person[\"n_kids\"] += 1\n",
        "    # Agregar el diccionario modificado a la nueva lista\n",
        "    people_next_year.append(new_person)\n",
        "\n",
        "# Imprimir la lista de diccionarios con la información de las personas después de un año\n",
        "print(\"Información de las personas después de un año:\")\n",
        "for person in people_next_year:\n",
        "    print(person)"
      ]
    }
  ],
  "metadata": {
    "kernelspec": {
      "display_name": "Python 3 (ipykernel)",
      "language": "python",
      "name": "python3"
    },
    "language_info": {
      "codemirror_mode": {
        "name": "ipython",
        "version": 3
      },
      "file_extension": ".py",
      "mimetype": "text/x-python",
      "name": "python",
      "nbconvert_exporter": "python",
      "pygments_lexer": "ipython3",
      "version": "3.9.13"
    },
    "toc": {
      "base_numbering": 1,
      "nav_menu": {},
      "number_sections": false,
      "sideBar": true,
      "skip_h1_title": false,
      "title_cell": "Table of Contents",
      "title_sidebar": "Contents",
      "toc_cell": false,
      "toc_position": {},
      "toc_section_display": true,
      "toc_window_display": true
    },
    "varInspector": {
      "cols": {
        "lenName": 16,
        "lenType": 16,
        "lenVar": 40
      },
      "kernels_config": {
        "python": {
          "delete_cmd_postfix": "",
          "delete_cmd_prefix": "del ",
          "library": "var_list.py",
          "varRefreshCmd": "print(var_dic_list())"
        },
        "r": {
          "delete_cmd_postfix": ") ",
          "delete_cmd_prefix": "rm(",
          "library": "var_list.r",
          "varRefreshCmd": "cat(var_dic_list()) "
        }
      },
      "types_to_exclude": [
        "module",
        "function",
        "builtin_function_or_method",
        "instance",
        "_Feature"
      ],
      "window_display": false
    },
    "vscode": {
      "interpreter": {
        "hash": "aee8b7b246df8f9039afb4144a1f6fd8d2ca17a180786b69acc140d282b71a49"
      }
    },
    "colab": {
      "provenance": []
    }
  },
  "nbformat": 4,
  "nbformat_minor": 0
}